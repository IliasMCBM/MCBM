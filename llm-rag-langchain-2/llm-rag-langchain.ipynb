{
 "cells": [
  {
   "cell_type": "code",
   "execution_count": 4,
   "id": "1f077b32-5d36-44b0-9041-407e996283a3",
   "metadata": {},
   "outputs": [
    {
     "name": "stdout",
     "output_type": "stream",
     "text": [
      "Looking in indexes: https://pypi.org/simple, https://storage.openvinotoolkit.org/simple/wheels/nightly\n",
      "Collecting openvino>=2024.2.0\n",
      "  Using cached https://storage.openvinotoolkit.org/wheels/nightly/openvino/openvino-2024.5.0.dev20241014-16993-cp38-cp38-manylinux2014_x86_64.whl (43.2 MB)\n",
      "Requirement already satisfied, skipping upgrade: numpy<2.1.0,>=1.16.6 in /home/dell/MCBM/venv/lib/python3.8/site-packages (from openvino>=2024.2.0) (1.24.4)\n",
      "Requirement already satisfied, skipping upgrade: openvino-telemetry>=2023.2.1 in /home/dell/MCBM/venv/lib/python3.8/site-packages (from openvino>=2024.2.0) (2024.1.0)\n",
      "Requirement already satisfied, skipping upgrade: packaging in /home/dell/MCBM/venv/lib/python3.8/site-packages (from openvino>=2024.2.0) (24.1)\n"
     ]
    },
    {
     "name": "stderr",
     "output_type": "stream",
     "text": [
      "ERROR: openvino-tokenizers 2024.4.0.0 has requirement openvino~=2024.4.0.0.dev, but you'll have openvino 2024.5.0.dev20241014 which is incompatible.\n"
     ]
    },
    {
     "name": "stdout",
     "output_type": "stream",
     "text": [
      "Installing collected packages: openvino\n",
      "  Attempting uninstall: openvino\n",
      "    Found existing installation: openvino 2024.4.0\n",
      "    Uninstalling openvino-2024.4.0:\n",
      "      Successfully uninstalled openvino-2024.4.0\n",
      "Successfully installed openvino-2024.5.0.dev20241014\n",
      "Looking in indexes: https://pypi.org/simple, https://storage.openvinotoolkit.org/simple/wheels/nightly\n",
      "Requirement already satisfied: openvino-tokenizers[transformers] in /home/dell/MCBM/venv/lib/python3.8/site-packages (2024.4.0.0)\n",
      "Collecting openvino~=2024.4.0.0.dev\n",
      "  Using cached openvino-2024.4.0-16579-cp38-cp38-manylinux2014_x86_64.whl (42.6 MB)\n",
      "Requirement already satisfied: tiktoken; extra == \"transformers\" in /home/dell/MCBM/venv/lib/python3.8/site-packages (from openvino-tokenizers[transformers]) (0.7.0)\n",
      "Requirement already satisfied: transformers[sentencepiece]>=4.36.0; extra == \"transformers\" in /home/dell/MCBM/venv/lib/python3.8/site-packages (from openvino-tokenizers[transformers]) (4.45.2)\n",
      "Requirement already satisfied: numpy<2.1.0,>=1.16.6 in /home/dell/MCBM/venv/lib/python3.8/site-packages (from openvino~=2024.4.0.0.dev->openvino-tokenizers[transformers]) (1.24.4)\n",
      "Requirement already satisfied: openvino-telemetry>=2023.2.1 in /home/dell/MCBM/venv/lib/python3.8/site-packages (from openvino~=2024.4.0.0.dev->openvino-tokenizers[transformers]) (2024.1.0)\n",
      "Requirement already satisfied: packaging in /home/dell/MCBM/venv/lib/python3.8/site-packages (from openvino~=2024.4.0.0.dev->openvino-tokenizers[transformers]) (24.1)\n",
      "Requirement already satisfied: regex>=2022.1.18 in /home/dell/MCBM/venv/lib/python3.8/site-packages (from tiktoken; extra == \"transformers\"->openvino-tokenizers[transformers]) (2024.9.11)\n",
      "Requirement already satisfied: requests>=2.26.0 in /home/dell/MCBM/venv/lib/python3.8/site-packages (from tiktoken; extra == \"transformers\"->openvino-tokenizers[transformers]) (2.32.3)\n",
      "Requirement already satisfied: pyyaml>=5.1 in /home/dell/MCBM/venv/lib/python3.8/site-packages (from transformers[sentencepiece]>=4.36.0; extra == \"transformers\"->openvino-tokenizers[transformers]) (6.0.2)\n",
      "Requirement already satisfied: safetensors>=0.4.1 in /home/dell/MCBM/venv/lib/python3.8/site-packages (from transformers[sentencepiece]>=4.36.0; extra == \"transformers\"->openvino-tokenizers[transformers]) (0.4.5)\n",
      "Requirement already satisfied: huggingface-hub<1.0,>=0.23.2 in /home/dell/MCBM/venv/lib/python3.8/site-packages (from transformers[sentencepiece]>=4.36.0; extra == \"transformers\"->openvino-tokenizers[transformers]) (0.26.1)\n",
      "Requirement already satisfied: filelock in /home/dell/MCBM/venv/lib/python3.8/site-packages (from transformers[sentencepiece]>=4.36.0; extra == \"transformers\"->openvino-tokenizers[transformers]) (3.16.1)\n",
      "Requirement already satisfied: tokenizers<0.21,>=0.20 in /home/dell/MCBM/venv/lib/python3.8/site-packages (from transformers[sentencepiece]>=4.36.0; extra == \"transformers\"->openvino-tokenizers[transformers]) (0.20.1)\n",
      "Requirement already satisfied: tqdm>=4.27 in /home/dell/MCBM/venv/lib/python3.8/site-packages (from transformers[sentencepiece]>=4.36.0; extra == \"transformers\"->openvino-tokenizers[transformers]) (4.66.5)\n",
      "Requirement already satisfied: sentencepiece!=0.1.92,>=0.1.91; extra == \"sentencepiece\" in /home/dell/MCBM/venv/lib/python3.8/site-packages (from transformers[sentencepiece]>=4.36.0; extra == \"transformers\"->openvino-tokenizers[transformers]) (0.2.0)\n",
      "Requirement already satisfied: protobuf; extra == \"sentencepiece\" in /home/dell/MCBM/venv/lib/python3.8/site-packages (from transformers[sentencepiece]>=4.36.0; extra == \"transformers\"->openvino-tokenizers[transformers]) (5.28.2)\n",
      "Requirement already satisfied: certifi>=2017.4.17 in /home/dell/MCBM/venv/lib/python3.8/site-packages (from requests>=2.26.0->tiktoken; extra == \"transformers\"->openvino-tokenizers[transformers]) (2024.8.30)\n",
      "Requirement already satisfied: charset-normalizer<4,>=2 in /home/dell/MCBM/venv/lib/python3.8/site-packages (from requests>=2.26.0->tiktoken; extra == \"transformers\"->openvino-tokenizers[transformers]) (3.4.0)\n",
      "Requirement already satisfied: idna<4,>=2.5 in /home/dell/MCBM/venv/lib/python3.8/site-packages (from requests>=2.26.0->tiktoken; extra == \"transformers\"->openvino-tokenizers[transformers]) (3.10)\n",
      "Requirement already satisfied: urllib3<3,>=1.21.1 in /home/dell/MCBM/venv/lib/python3.8/site-packages (from requests>=2.26.0->tiktoken; extra == \"transformers\"->openvino-tokenizers[transformers]) (2.2.3)\n",
      "Requirement already satisfied: fsspec>=2023.5.0 in /home/dell/MCBM/venv/lib/python3.8/site-packages (from huggingface-hub<1.0,>=0.23.2->transformers[sentencepiece]>=4.36.0; extra == \"transformers\"->openvino-tokenizers[transformers]) (2024.10.0)\n",
      "Requirement already satisfied: typing-extensions>=3.7.4.3 in /home/dell/MCBM/venv/lib/python3.8/site-packages (from huggingface-hub<1.0,>=0.23.2->transformers[sentencepiece]>=4.36.0; extra == \"transformers\"->openvino-tokenizers[transformers]) (4.12.2)\n",
      "Installing collected packages: openvino\n",
      "  Attempting uninstall: openvino\n",
      "    Found existing installation: openvino 2024.5.0.dev20241014\n",
      "    Uninstalling openvino-2024.5.0.dev20241014:\n",
      "      Successfully uninstalled openvino-2024.5.0.dev20241014\n",
      "Successfully installed openvino-2024.4.0\n",
      "Looking in indexes: https://pypi.org/simple, https://download.pytorch.org/whl/cpu\n",
      "Collecting git+https://github.com/huggingface/optimum-intel.git\n",
      "  Cloning https://github.com/huggingface/optimum-intel.git to /tmp/pip-req-build-6gah7g46\n"
     ]
    },
    {
     "name": "stderr",
     "output_type": "stream",
     "text": [
      "  Running command git clone -q https://github.com/huggingface/optimum-intel.git /tmp/pip-req-build-6gah7g46\n"
     ]
    },
    {
     "name": "stdout",
     "output_type": "stream",
     "text": [
      "  Installing build dependencies: started\n",
      "  Installing build dependencies: finished with status 'done'\n",
      "  Getting requirements to build wheel: started\n",
      "  Getting requirements to build wheel: finished with status 'done'\n",
      "    Preparing wheel metadata: started\n",
      "    Preparing wheel metadata: finished with status 'done'\n",
      "Collecting nncf\n",
      "  Downloading nncf-2.13.0-py3-none-any.whl (1.3 MB)\n",
      "Collecting datasets\n",
      "  Downloading datasets-3.0.2-py3-none-any.whl (472 kB)\n",
      "Collecting accelerate\n",
      "  Using cached accelerate-1.0.1-py3-none-any.whl (330 kB)\n",
      "Collecting gradio>=4.19\n",
      "  Downloading gradio-4.44.1-py3-none-any.whl (18.1 MB)\n",
      "Collecting onnx<1.16.2\n",
      "  Using cached onnx-1.16.1-cp38-cp38-manylinux_2_17_x86_64.manylinux2014_x86_64.whl (15.9 MB)\n",
      "Collecting einops\n",
      "  Downloading einops-0.8.0-py3-none-any.whl (43 kB)\n",
      "Collecting transformers_stream_generator\n",
      "  Downloading transformers-stream-generator-0.0.5.tar.gz (13 kB)\n",
      "Requirement already satisfied: tiktoken in /home/dell/MCBM/venv/lib/python3.8/site-packages (0.7.0)\n",
      "Requirement already satisfied: transformers>=4.43.1 in /home/dell/MCBM/venv/lib/python3.8/site-packages (4.45.2)\n",
      "Collecting faiss-cpu\n",
      "  Using cached faiss_cpu-1.8.0.post1-cp38-cp38-manylinux_2_17_x86_64.manylinux2014_x86_64.whl (27.0 MB)\n",
      "Collecting sentence_transformers\n",
      "  Downloading sentence_transformers-3.2.1-py3-none-any.whl (255 kB)\n",
      "Collecting langchain>=0.2.0\n",
      "  Using cached langchain-0.2.16-py3-none-any.whl (1.0 MB)\n",
      "Collecting langchain-community>=0.2.15\n",
      "  Using cached langchain_community-0.2.17-py3-none-any.whl (2.3 MB)\n",
      "Collecting langchainhub\n",
      "  Using cached langchainhub-0.1.21-py3-none-any.whl (5.2 kB)\n",
      "Collecting unstructured\n",
      "  Downloading unstructured-0.11.8-py3-none-any.whl (1.8 MB)\n",
      "Collecting scikit-learn\n",
      "  Using cached scikit_learn-1.3.2-cp38-cp38-manylinux_2_17_x86_64.manylinux2014_x86_64.whl (11.1 MB)\n",
      "Requirement already satisfied: python-docx in /home/dell/MCBM/venv/lib/python3.8/site-packages (1.1.2)\n",
      "Collecting pypdf\n",
      "  Using cached pypdf-5.0.1-py3-none-any.whl (294 kB)\n",
      "Requirement already satisfied: sentencepiece in /home/dell/MCBM/venv/lib/python3.8/site-packages (from optimum-intel==1.20.0.dev0+227defe) (0.2.0)\n",
      "Requirement already satisfied: scipy in /home/dell/MCBM/venv/lib/python3.8/site-packages (from optimum-intel==1.20.0.dev0+227defe) (1.10.1)\n",
      "Requirement already satisfied: setuptools in /home/dell/MCBM/venv/lib/python3.8/site-packages (from optimum-intel==1.20.0.dev0+227defe) (44.0.0)\n",
      "Requirement already satisfied: torch>=1.11 in /home/dell/MCBM/venv/lib/python3.8/site-packages (from optimum-intel==1.20.0.dev0+227defe) (2.4.1)\n",
      "Collecting optimum~=1.23\n",
      "  Downloading optimum-1.23.2-py3-none-any.whl (422 kB)\n",
      "Collecting tabulate>=0.9.0\n",
      "  Downloading tabulate-0.9.0-py3-none-any.whl (35 kB)\n",
      "Requirement already satisfied: rich>=13.5.2 in /home/dell/MCBM/venv/lib/python3.8/site-packages (from nncf) (13.9.3)\n",
      "Requirement already satisfied: openvino-telemetry>=2023.2.0 in /home/dell/MCBM/venv/lib/python3.8/site-packages (from nncf) (2024.1.0)\n",
      "Requirement already satisfied: jsonschema>=3.2.0 in /home/dell/MCBM/venv/lib/python3.8/site-packages (from nncf) (4.23.0)\n",
      "Collecting jstyleson>=0.0.2\n",
      "  Using cached jstyleson-0.0.2.tar.gz (2.0 kB)\n",
      "Requirement already satisfied: packaging>=20.0 in /home/dell/MCBM/venv/lib/python3.8/site-packages (from nncf) (24.1)\n",
      "Collecting ninja<1.12,>=1.10.0.post2\n",
      "  Downloading ninja-1.11.1.1-py2.py3-none-manylinux1_x86_64.manylinux_2_5_x86_64.whl (307 kB)\n",
      "Requirement already satisfied: pandas<2.3,>=1.1.5 in /home/dell/MCBM/venv/lib/python3.8/site-packages (from nncf) (2.0.3)\n",
      "Collecting pymoo>=0.6.0.1\n",
      "  Downloading pymoo-0.6.1.2.tar.gz (1.3 MB)\n",
      "Requirement already satisfied: networkx<=3.3,>=2.6 in /home/dell/MCBM/venv/lib/python3.8/site-packages (from nncf) (3.1)\n",
      "Requirement already satisfied: tqdm>=4.54.1 in /home/dell/MCBM/venv/lib/python3.8/site-packages (from nncf) (4.66.5)\n",
      "Requirement already satisfied: psutil in /home/dell/MCBM/venv/lib/python3.8/site-packages (from nncf) (6.1.0)\n",
      "Requirement already satisfied: numpy<1.27,>=1.19.1 in /home/dell/MCBM/venv/lib/python3.8/site-packages (from nncf) (1.24.4)\n",
      "Collecting pydot<3.0.0,>=1.4.1\n",
      "  Downloading pydot-2.0.0-py3-none-any.whl (22 kB)\n",
      "Collecting natsort>=7.1.0\n",
      "  Using cached natsort-8.4.0-py3-none-any.whl (38 kB)\n",
      "Requirement already satisfied: pyyaml>=5.1 in /home/dell/MCBM/venv/lib/python3.8/site-packages (from datasets) (6.0.2)\n",
      "Requirement already satisfied: requests>=2.32.2 in /home/dell/MCBM/venv/lib/python3.8/site-packages (from datasets) (2.32.3)\n",
      "Collecting aiohttp\n",
      "  Using cached aiohttp-3.10.10-cp38-cp38-manylinux_2_17_x86_64.manylinux2014_x86_64.whl (1.3 MB)\n",
      "Collecting multiprocess<0.70.17\n",
      "  Downloading multiprocess-0.70.16-py38-none-any.whl (132 kB)\n",
      "Collecting dill<0.3.9,>=0.3.0\n",
      "  Downloading dill-0.3.8-py3-none-any.whl (116 kB)\n",
      "Requirement already satisfied: filelock in /home/dell/MCBM/venv/lib/python3.8/site-packages (from datasets) (3.16.1)\n",
      "Collecting fsspec[http]<=2024.9.0,>=2023.1.0\n",
      "  Downloading fsspec-2024.9.0-py3-none-any.whl (179 kB)\n",
      "Requirement already satisfied: huggingface-hub>=0.23.0 in /home/dell/MCBM/venv/lib/python3.8/site-packages (from datasets) (0.26.1)\n",
      "Requirement already satisfied: pyarrow>=15.0.0 in /home/dell/MCBM/venv/lib/python3.8/site-packages (from datasets) (17.0.0)\n",
      "Collecting xxhash\n",
      "  Downloading xxhash-3.5.0-cp38-cp38-manylinux_2_17_x86_64.manylinux2014_x86_64.whl (194 kB)\n",
      "Requirement already satisfied: safetensors>=0.4.3 in /home/dell/MCBM/venv/lib/python3.8/site-packages (from accelerate) (0.4.5)\n",
      "Collecting python-multipart>=0.0.9\n",
      "  Downloading python_multipart-0.0.12-py3-none-any.whl (23 kB)\n",
      "Requirement already satisfied: matplotlib~=3.0 in /home/dell/MCBM/venv/lib/python3.8/site-packages (from gradio>=4.19) (3.7.5)\n",
      "Requirement already satisfied: urllib3~=2.0 in /home/dell/MCBM/venv/lib/python3.8/site-packages (from gradio>=4.19) (2.2.3)\n",
      "Collecting orjson~=3.0\n",
      "  Downloading orjson-3.10.10-cp38-cp38-manylinux_2_17_x86_64.manylinux2014_x86_64.whl (144 kB)\n",
      "Requirement already satisfied: pydantic>=2.0 in /home/dell/MCBM/venv/lib/python3.8/site-packages (from gradio>=4.19) (2.9.2)\n",
      "Requirement already satisfied: pillow<11.0,>=8.0 in /home/dell/MCBM/venv/lib/python3.8/site-packages (from gradio>=4.19) (10.4.0)\n",
      "Collecting aiofiles<24.0,>=22.0\n",
      "  Downloading aiofiles-23.2.1-py3-none-any.whl (15 kB)\n",
      "Requirement already satisfied: jinja2<4.0 in /home/dell/MCBM/venv/lib/python3.8/site-packages (from gradio>=4.19) (3.1.4)\n",
      "Requirement already satisfied: anyio<5.0,>=3.0 in /home/dell/MCBM/venv/lib/python3.8/site-packages (from gradio>=4.19) (4.5.2)\n",
      "Requirement already satisfied: httpx>=0.24.1 in /home/dell/MCBM/venv/lib/python3.8/site-packages (from gradio>=4.19) (0.27.2)\n",
      "Collecting semantic-version~=2.0\n",
      "  Downloading semantic_version-2.10.0-py2.py3-none-any.whl (15 kB)\n",
      "Collecting pydub\n",
      "  Downloading pydub-0.25.1-py2.py3-none-any.whl (32 kB)\n",
      "Collecting ruff>=0.2.2; sys_platform != \"emscripten\"\n",
      "  Downloading ruff-0.7.0-py3-none-manylinux_2_17_x86_64.manylinux2014_x86_64.whl (10.9 MB)\n",
      "Collecting tomlkit==0.12.0\n",
      "  Downloading tomlkit-0.12.0-py3-none-any.whl (37 kB)\n",
      "Collecting fastapi<1.0\n",
      "  Downloading fastapi-0.115.3-py3-none-any.whl (94 kB)\n",
      "Requirement already satisfied: typing-extensions~=4.0 in /home/dell/MCBM/venv/lib/python3.8/site-packages (from gradio>=4.19) (4.12.2)\n",
      "Collecting ffmpy\n",
      "  Downloading ffmpy-0.4.0-py3-none-any.whl (5.8 kB)\n",
      "Collecting gradio-client==1.3.0\n",
      "  Downloading gradio_client-1.3.0-py3-none-any.whl (318 kB)\n",
      "Collecting typer<1.0,>=0.12; sys_platform != \"emscripten\"\n",
      "  Using cached typer-0.12.5-py3-none-any.whl (47 kB)\n",
      "Requirement already satisfied: importlib-resources<7.0,>=1.3 in /home/dell/MCBM/venv/lib/python3.8/site-packages (from gradio>=4.19) (6.4.5)\n",
      "Collecting uvicorn>=0.14.0; sys_platform != \"emscripten\"\n",
      "  Using cached uvicorn-0.32.0-py3-none-any.whl (63 kB)\n",
      "Requirement already satisfied: markupsafe~=2.0 in /home/dell/MCBM/venv/lib/python3.8/site-packages (from gradio>=4.19) (2.1.5)\n",
      "Requirement already satisfied: protobuf>=3.20.2 in /home/dell/MCBM/venv/lib/python3.8/site-packages (from onnx<1.16.2) (5.28.2)\n",
      "Requirement already satisfied: regex>=2022.1.18 in /home/dell/MCBM/venv/lib/python3.8/site-packages (from tiktoken) (2024.9.11)\n",
      "Requirement already satisfied: tokenizers<0.21,>=0.20 in /home/dell/MCBM/venv/lib/python3.8/site-packages (from transformers>=4.43.1) (0.20.1)\n",
      "Collecting tenacity!=8.4.0,<9.0.0,>=8.1.0\n",
      "  Using cached tenacity-8.5.0-py3-none-any.whl (28 kB)\n",
      "Collecting async-timeout<5.0.0,>=4.0.0; python_version < \"3.11\"\n",
      "  Using cached async_timeout-4.0.3-py3-none-any.whl (5.7 kB)\n",
      "Collecting langchain-core<0.3.0,>=0.2.38\n",
      "  Using cached langchain_core-0.2.41-py3-none-any.whl (397 kB)\n",
      "Collecting SQLAlchemy<3,>=1.4\n",
      "  Using cached SQLAlchemy-2.0.36-cp38-cp38-manylinux_2_17_x86_64.manylinux2014_x86_64.whl (3.1 MB)\n",
      "Collecting langsmith<0.2.0,>=0.1.17\n",
      "  Downloading langsmith-0.1.137-py3-none-any.whl (296 kB)\n",
      "Collecting langchain-text-splitters<0.3.0,>=0.2.0\n",
      "  Using cached langchain_text_splitters-0.2.4-py3-none-any.whl (25 kB)\n",
      "Collecting dataclasses-json<0.7,>=0.5.7\n",
      "  Using cached dataclasses_json-0.6.7-py3-none-any.whl (28 kB)\n",
      "Collecting types-requests<3.0.0.0,>=2.31.0.2\n",
      "  Using cached types_requests-2.32.0.20241016-py3-none-any.whl (15 kB)\n",
      "Collecting emoji\n",
      "  Downloading emoji-2.14.0-py3-none-any.whl (586 kB)\n",
      "Collecting unstructured-client\n",
      "  Downloading unstructured_client-0.26.1-py3-none-any.whl (60 kB)\n",
      "Collecting python-magic\n",
      "  Downloading python_magic-0.4.27-py2.py3-none-any.whl (13 kB)\n",
      "Collecting filetype\n",
      "  Downloading filetype-1.2.0-py2.py3-none-any.whl (19 kB)\n",
      "Collecting nltk\n",
      "  Downloading nltk-3.9.1-py3-none-any.whl (1.5 MB)\n",
      "Requirement already satisfied: lxml in /home/dell/MCBM/venv/lib/python3.8/site-packages (from unstructured) (5.3.0)\n",
      "Collecting chardet\n",
      "  Downloading chardet-5.2.0-py3-none-any.whl (199 kB)\n",
      "Collecting backoff\n",
      "  Using cached backoff-2.2.1-py3-none-any.whl (15 kB)\n",
      "Requirement already satisfied: beautifulsoup4 in /home/dell/MCBM/venv/lib/python3.8/site-packages (from unstructured) (4.12.3)\n",
      "Collecting wrapt\n",
      "  Using cached wrapt-1.16.0-cp38-cp38-manylinux_2_5_x86_64.manylinux1_x86_64.manylinux_2_17_x86_64.manylinux2014_x86_64.whl (83 kB)\n",
      "Collecting python-iso639\n",
      "  Downloading python_iso639-2024.10.22-py3-none-any.whl (274 kB)\n",
      "Requirement already satisfied: rapidfuzz in /home/dell/MCBM/venv/lib/python3.8/site-packages (from unstructured) (3.9.7)\n",
      "Collecting langdetect\n",
      "  Downloading langdetect-1.0.9.tar.gz (981 kB)\n",
      "Collecting threadpoolctl>=2.0.0\n",
      "  Using cached threadpoolctl-3.5.0-py3-none-any.whl (18 kB)\n",
      "Collecting joblib>=1.1.1\n",
      "  Using cached joblib-1.4.2-py3-none-any.whl (301 kB)\n",
      "Requirement already satisfied: nvidia-cublas-cu12==12.1.3.1; platform_system == \"Linux\" and platform_machine == \"x86_64\" in /home/dell/MCBM/venv/lib/python3.8/site-packages (from torch>=1.11->optimum-intel==1.20.0.dev0+227defe) (12.1.3.1)\n",
      "Requirement already satisfied: nvidia-cuda-runtime-cu12==12.1.105; platform_system == \"Linux\" and platform_machine == \"x86_64\" in /home/dell/MCBM/venv/lib/python3.8/site-packages (from torch>=1.11->optimum-intel==1.20.0.dev0+227defe) (12.1.105)\n",
      "Requirement already satisfied: sympy in /home/dell/MCBM/venv/lib/python3.8/site-packages (from torch>=1.11->optimum-intel==1.20.0.dev0+227defe) (1.13.3)\n",
      "Requirement already satisfied: nvidia-cufft-cu12==11.0.2.54; platform_system == \"Linux\" and platform_machine == \"x86_64\" in /home/dell/MCBM/venv/lib/python3.8/site-packages (from torch>=1.11->optimum-intel==1.20.0.dev0+227defe) (11.0.2.54)\n",
      "Requirement already satisfied: nvidia-nvtx-cu12==12.1.105; platform_system == \"Linux\" and platform_machine == \"x86_64\" in /home/dell/MCBM/venv/lib/python3.8/site-packages (from torch>=1.11->optimum-intel==1.20.0.dev0+227defe) (12.1.105)\n",
      "Requirement already satisfied: nvidia-cusolver-cu12==11.4.5.107; platform_system == \"Linux\" and platform_machine == \"x86_64\" in /home/dell/MCBM/venv/lib/python3.8/site-packages (from torch>=1.11->optimum-intel==1.20.0.dev0+227defe) (11.4.5.107)\n",
      "Requirement already satisfied: triton==3.0.0; platform_system == \"Linux\" and platform_machine == \"x86_64\" and python_version < \"3.13\" in /home/dell/MCBM/venv/lib/python3.8/site-packages (from torch>=1.11->optimum-intel==1.20.0.dev0+227defe) (3.0.0)\n",
      "Requirement already satisfied: nvidia-cuda-nvrtc-cu12==12.1.105; platform_system == \"Linux\" and platform_machine == \"x86_64\" in /home/dell/MCBM/venv/lib/python3.8/site-packages (from torch>=1.11->optimum-intel==1.20.0.dev0+227defe) (12.1.105)\n",
      "Requirement already satisfied: nvidia-curand-cu12==10.3.2.106; platform_system == \"Linux\" and platform_machine == \"x86_64\" in /home/dell/MCBM/venv/lib/python3.8/site-packages (from torch>=1.11->optimum-intel==1.20.0.dev0+227defe) (10.3.2.106)\n",
      "Requirement already satisfied: nvidia-cudnn-cu12==9.1.0.70; platform_system == \"Linux\" and platform_machine == \"x86_64\" in /home/dell/MCBM/venv/lib/python3.8/site-packages (from torch>=1.11->optimum-intel==1.20.0.dev0+227defe) (9.1.0.70)\n",
      "Requirement already satisfied: nvidia-cuda-cupti-cu12==12.1.105; platform_system == \"Linux\" and platform_machine == \"x86_64\" in /home/dell/MCBM/venv/lib/python3.8/site-packages (from torch>=1.11->optimum-intel==1.20.0.dev0+227defe) (12.1.105)\n",
      "Requirement already satisfied: nvidia-cusparse-cu12==12.1.0.106; platform_system == \"Linux\" and platform_machine == \"x86_64\" in /home/dell/MCBM/venv/lib/python3.8/site-packages (from torch>=1.11->optimum-intel==1.20.0.dev0+227defe) (12.1.0.106)\n",
      "Requirement already satisfied: nvidia-nccl-cu12==2.20.5; platform_system == \"Linux\" and platform_machine == \"x86_64\" in /home/dell/MCBM/venv/lib/python3.8/site-packages (from torch>=1.11->optimum-intel==1.20.0.dev0+227defe) (2.20.5)\n",
      "Collecting coloredlogs\n",
      "  Using cached coloredlogs-15.0.1-py2.py3-none-any.whl (46 kB)\n",
      "Requirement already satisfied: pygments<3.0.0,>=2.13.0 in /home/dell/MCBM/venv/lib/python3.8/site-packages (from rich>=13.5.2->nncf) (2.18.0)\n",
      "Requirement already satisfied: markdown-it-py>=2.2.0 in /home/dell/MCBM/venv/lib/python3.8/site-packages (from rich>=13.5.2->nncf) (3.0.0)\n",
      "Requirement already satisfied: pkgutil-resolve-name>=1.3.10; python_version < \"3.9\" in /home/dell/MCBM/venv/lib/python3.8/site-packages (from jsonschema>=3.2.0->nncf) (1.3.10)\n",
      "Requirement already satisfied: rpds-py>=0.7.1 in /home/dell/MCBM/venv/lib/python3.8/site-packages (from jsonschema>=3.2.0->nncf) (0.20.0)\n",
      "Requirement already satisfied: referencing>=0.28.4 in /home/dell/MCBM/venv/lib/python3.8/site-packages (from jsonschema>=3.2.0->nncf) (0.35.1)\n",
      "Requirement already satisfied: jsonschema-specifications>=2023.03.6 in /home/dell/MCBM/venv/lib/python3.8/site-packages (from jsonschema>=3.2.0->nncf) (2023.12.1)\n",
      "Requirement already satisfied: attrs>=22.2.0 in /home/dell/MCBM/venv/lib/python3.8/site-packages (from jsonschema>=3.2.0->nncf) (24.2.0)\n",
      "Requirement already satisfied: pytz>=2020.1 in /home/dell/MCBM/venv/lib/python3.8/site-packages (from pandas<2.3,>=1.1.5->nncf) (2024.2)\n",
      "Requirement already satisfied: tzdata>=2022.1 in /home/dell/MCBM/venv/lib/python3.8/site-packages (from pandas<2.3,>=1.1.5->nncf) (2024.2)\n",
      "Requirement already satisfied: python-dateutil>=2.8.2 in /home/dell/MCBM/venv/lib/python3.8/site-packages (from pandas<2.3,>=1.1.5->nncf) (2.9.0.post0)\n",
      "Collecting Deprecated\n",
      "  Using cached Deprecated-1.2.14-py2.py3-none-any.whl (9.6 kB)\n",
      "Collecting alive-progress\n",
      "  Using cached alive_progress-3.1.5-py3-none-any.whl (75 kB)\n",
      "Collecting autograd>=1.4\n",
      "  Downloading autograd-1.7.0-py3-none-any.whl (52 kB)\n",
      "Collecting cma==3.2.2\n",
      "  Using cached cma-3.2.2-py2.py3-none-any.whl (249 kB)\n",
      "Requirement already satisfied: pyparsing>=3 in /home/dell/MCBM/venv/lib/python3.8/site-packages (from pydot<3.0.0,>=1.4.1->nncf) (3.1.4)\n",
      "Requirement already satisfied: charset-normalizer<4,>=2 in /home/dell/MCBM/venv/lib/python3.8/site-packages (from requests>=2.32.2->datasets) (3.4.0)\n",
      "Requirement already satisfied: idna<4,>=2.5 in /home/dell/MCBM/venv/lib/python3.8/site-packages (from requests>=2.32.2->datasets) (3.10)\n",
      "Requirement already satisfied: certifi>=2017.4.17 in /home/dell/MCBM/venv/lib/python3.8/site-packages (from requests>=2.32.2->datasets) (2024.8.30)\n",
      "Collecting multidict<7.0,>=4.5\n",
      "  Using cached multidict-6.1.0-cp38-cp38-manylinux_2_17_x86_64.manylinux2014_x86_64.whl (129 kB)\n",
      "Collecting yarl<2.0,>=1.12.0\n",
      "  Using cached yarl-1.15.2-cp38-cp38-manylinux_2_17_x86_64.manylinux2014_x86_64.whl (319 kB)\n",
      "Collecting aiohappyeyeballs>=2.3.0\n",
      "  Using cached aiohappyeyeballs-2.4.3-py3-none-any.whl (14 kB)\n",
      "Collecting aiosignal>=1.1.2\n",
      "  Using cached aiosignal-1.3.1-py3-none-any.whl (7.6 kB)\n",
      "Collecting frozenlist>=1.1.1\n",
      "  Downloading frozenlist-1.5.0-cp38-cp38-manylinux_2_5_x86_64.manylinux1_x86_64.manylinux_2_17_x86_64.manylinux2014_x86_64.whl (243 kB)\n",
      "Requirement already satisfied: fonttools>=4.22.0 in /home/dell/MCBM/venv/lib/python3.8/site-packages (from matplotlib~=3.0->gradio>=4.19) (4.54.1)\n",
      "Requirement already satisfied: contourpy>=1.0.1 in /home/dell/MCBM/venv/lib/python3.8/site-packages (from matplotlib~=3.0->gradio>=4.19) (1.1.1)\n",
      "Requirement already satisfied: cycler>=0.10 in /home/dell/MCBM/venv/lib/python3.8/site-packages (from matplotlib~=3.0->gradio>=4.19) (0.12.1)\n",
      "Requirement already satisfied: kiwisolver>=1.0.1 in /home/dell/MCBM/venv/lib/python3.8/site-packages (from matplotlib~=3.0->gradio>=4.19) (1.4.7)\n",
      "Requirement already satisfied: pydantic-core==2.23.4 in /home/dell/MCBM/venv/lib/python3.8/site-packages (from pydantic>=2.0->gradio>=4.19) (2.23.4)\n",
      "Requirement already satisfied: annotated-types>=0.6.0 in /home/dell/MCBM/venv/lib/python3.8/site-packages (from pydantic>=2.0->gradio>=4.19) (0.7.0)\n",
      "Requirement already satisfied: sniffio>=1.1 in /home/dell/MCBM/venv/lib/python3.8/site-packages (from anyio<5.0,>=3.0->gradio>=4.19) (1.3.1)\n",
      "Requirement already satisfied: exceptiongroup>=1.0.2; python_version < \"3.11\" in /home/dell/MCBM/venv/lib/python3.8/site-packages (from anyio<5.0,>=3.0->gradio>=4.19) (1.2.2)\n",
      "Requirement already satisfied: httpcore==1.* in /home/dell/MCBM/venv/lib/python3.8/site-packages (from httpx>=0.24.1->gradio>=4.19) (1.0.6)\n",
      "Collecting starlette<0.42.0,>=0.40.0\n",
      "  Downloading starlette-0.41.0-py3-none-any.whl (73 kB)\n",
      "Collecting websockets<13.0,>=10.0\n",
      "  Downloading websockets-12.0-cp38-cp38-manylinux_2_5_x86_64.manylinux1_x86_64.manylinux_2_17_x86_64.manylinux2014_x86_64.whl (130 kB)\n",
      "Collecting shellingham>=1.3.0\n",
      "  Using cached shellingham-1.5.4-py2.py3-none-any.whl (9.8 kB)\n",
      "Requirement already satisfied: click>=8.0.0 in /home/dell/MCBM/venv/lib/python3.8/site-packages (from typer<1.0,>=0.12; sys_platform != \"emscripten\"->gradio>=4.19) (8.1.7)\n",
      "Requirement already satisfied: zipp>=3.1.0; python_version < \"3.10\" in /home/dell/MCBM/venv/lib/python3.8/site-packages (from importlib-resources<7.0,>=1.3->gradio>=4.19) (3.20.2)\n",
      "Requirement already satisfied: h11>=0.8 in /home/dell/MCBM/venv/lib/python3.8/site-packages (from uvicorn>=0.14.0; sys_platform != \"emscripten\"->gradio>=4.19) (0.14.0)\n",
      "Collecting jsonpatch<2.0,>=1.33\n",
      "  Using cached jsonpatch-1.33-py2.py3-none-any.whl (12 kB)\n",
      "Collecting greenlet!=0.4.17; python_version < \"3.13\" and (platform_machine == \"aarch64\" or (platform_machine == \"ppc64le\" or (platform_machine == \"x86_64\" or (platform_machine == \"amd64\" or (platform_machine == \"AMD64\" or (platform_machine == \"win32\" or platform_machine == \"WIN32\"))))))\n",
      "  Using cached greenlet-3.1.1-cp38-cp38-manylinux_2_17_x86_64.manylinux2014_x86_64.whl (650 kB)\n",
      "Collecting requests-toolbelt<2.0.0,>=1.0.0\n",
      "  Using cached requests_toolbelt-1.0.0-py2.py3-none-any.whl (54 kB)\n",
      "Collecting marshmallow<4.0.0,>=3.18.0\n",
      "  Using cached marshmallow-3.22.0-py3-none-any.whl (49 kB)\n",
      "Collecting typing-inspect<1,>=0.4.0\n",
      "  Using cached typing_inspect-0.9.0-py3-none-any.whl (8.8 kB)\n",
      "Requirement already satisfied: eval-type-backport<0.3.0,>=0.2.0 in /home/dell/MCBM/venv/lib/python3.8/site-packages (from unstructured-client->unstructured) (0.2.0)\n",
      "Collecting cryptography>=3.1\n",
      "  Downloading cryptography-43.0.3-cp37-abi3-manylinux_2_17_x86_64.manylinux2014_x86_64.whl (4.0 MB)\n",
      "Collecting jsonpath-python<2.0.0,>=1.0.6\n",
      "  Downloading jsonpath_python-1.0.6-py3-none-any.whl (7.6 kB)\n",
      "Requirement already satisfied: nest-asyncio>=1.6.0 in /home/dell/MCBM/venv/lib/python3.8/site-packages (from unstructured-client->unstructured) (1.6.0)\n",
      "Requirement already satisfied: soupsieve>1.2 in /home/dell/MCBM/venv/lib/python3.8/site-packages (from beautifulsoup4->unstructured) (2.6)\n",
      "Requirement already satisfied: six in /home/dell/MCBM/venv/lib/python3.8/site-packages (from langdetect->unstructured) (1.16.0)\n",
      "Requirement already satisfied: mpmath<1.4,>=1.1.0 in /home/dell/MCBM/venv/lib/python3.8/site-packages (from sympy->torch>=1.11->optimum-intel==1.20.0.dev0+227defe) (1.3.0)\n",
      "Requirement already satisfied: nvidia-nvjitlink-cu12 in /home/dell/MCBM/venv/lib/python3.8/site-packages (from nvidia-cusolver-cu12==11.4.5.107; platform_system == \"Linux\" and platform_machine == \"x86_64\"->torch>=1.11->optimum-intel==1.20.0.dev0+227defe) (12.6.77)\n",
      "Collecting humanfriendly>=9.1\n",
      "  Using cached humanfriendly-10.0-py2.py3-none-any.whl (86 kB)\n",
      "Requirement already satisfied: mdurl~=0.1 in /home/dell/MCBM/venv/lib/python3.8/site-packages (from markdown-it-py>=2.2.0->rich>=13.5.2->nncf) (0.1.2)\n",
      "Collecting grapheme==0.6.0\n",
      "  Using cached grapheme-0.6.0.tar.gz (207 kB)\n",
      "Collecting about-time==4.2.1\n",
      "  Using cached about_time-4.2.1-py3-none-any.whl (13 kB)\n",
      "Collecting propcache>=0.2.0\n",
      "  Using cached propcache-0.2.0-cp38-cp38-manylinux_2_17_x86_64.manylinux2014_x86_64.whl (213 kB)\n",
      "Collecting jsonpointer>=1.9\n",
      "  Using cached jsonpointer-3.0.0-py2.py3-none-any.whl (7.6 kB)\n",
      "Collecting mypy-extensions>=0.3.0\n",
      "  Using cached mypy_extensions-1.0.0-py3-none-any.whl (4.7 kB)\n",
      "Collecting cffi>=1.12; platform_python_implementation != \"PyPy\"\n",
      "  Downloading cffi-1.17.1-cp38-cp38-manylinux_2_17_x86_64.manylinux2014_x86_64.whl (446 kB)\n",
      "Collecting pycparser\n",
      "  Using cached pycparser-2.22-py3-none-any.whl (117 kB)\n",
      "Building wheels for collected packages: transformers-stream-generator, optimum-intel, jstyleson, pymoo, langdetect, grapheme\n",
      "  Building wheel for transformers-stream-generator (setup.py): started\n",
      "  Building wheel for transformers-stream-generator (setup.py): finished with status 'error'\n",
      "  Running setup.py clean for transformers-stream-generator\n",
      "  Building wheel for optimum-intel (PEP 517): started\n"
     ]
    },
    {
     "name": "stderr",
     "output_type": "stream",
     "text": [
      "  ERROR: Command errored out with exit status 1:\n",
      "   command: /home/dell/MCBM/venv/bin/python -u -c 'import sys, setuptools, tokenize; sys.argv[0] = '\"'\"'/tmp/pip-install-okj3gdna/transformers-stream-generator/setup.py'\"'\"'; __file__='\"'\"'/tmp/pip-install-okj3gdna/transformers-stream-generator/setup.py'\"'\"';f=getattr(tokenize, '\"'\"'open'\"'\"', open)(__file__);code=f.read().replace('\"'\"'\\r\\n'\"'\"', '\"'\"'\\n'\"'\"');f.close();exec(compile(code, __file__, '\"'\"'exec'\"'\"'))' bdist_wheel -d /tmp/pip-wheel-cjcrlpci\n",
      "       cwd: /tmp/pip-install-okj3gdna/transformers-stream-generator/\n",
      "  Complete output (6 lines):\n",
      "  usage: setup.py [global_opts] cmd1 [cmd1_opts] [cmd2 [cmd2_opts] ...]\n",
      "     or: setup.py --help [cmd1 cmd2 ...]\n",
      "     or: setup.py --help-commands\n",
      "     or: setup.py cmd --help\n",
      "  \n",
      "  error: invalid command 'bdist_wheel'\n",
      "  ----------------------------------------\n",
      "  ERROR: Failed building wheel for transformers-stream-generator\n"
     ]
    },
    {
     "name": "stdout",
     "output_type": "stream",
     "text": [
      "  Building wheel for optimum-intel (PEP 517): finished with status 'done'\n",
      "  Created wheel for optimum-intel: filename=optimum_intel-1.20.0.dev0+227defe-py3-none-any.whl size=258174 sha256=63abb85053c5a82390bd114922078330b7900d3d02632fb5158534c3c92411b1\n",
      "  Stored in directory: /tmp/pip-ephem-wheel-cache-jmviu_he/wheels/49/ea/01/c792c07233a13d89e807347acee555da7bccd7d111b76681dc\n",
      "  Building wheel for jstyleson (setup.py): started\n",
      "  Building wheel for jstyleson (setup.py): finished with status 'error'\n",
      "  Running setup.py clean for jstyleson\n"
     ]
    },
    {
     "name": "stderr",
     "output_type": "stream",
     "text": [
      "  ERROR: Command errored out with exit status 1:\n",
      "   command: /home/dell/MCBM/venv/bin/python -u -c 'import sys, setuptools, tokenize; sys.argv[0] = '\"'\"'/tmp/pip-install-okj3gdna/jstyleson/setup.py'\"'\"'; __file__='\"'\"'/tmp/pip-install-okj3gdna/jstyleson/setup.py'\"'\"';f=getattr(tokenize, '\"'\"'open'\"'\"', open)(__file__);code=f.read().replace('\"'\"'\\r\\n'\"'\"', '\"'\"'\\n'\"'\"');f.close();exec(compile(code, __file__, '\"'\"'exec'\"'\"'))' bdist_wheel -d /tmp/pip-wheel-e2t2qzzh\n",
      "       cwd: /tmp/pip-install-okj3gdna/jstyleson/\n",
      "  Complete output (6 lines):\n",
      "  usage: setup.py [global_opts] cmd1 [cmd1_opts] [cmd2 [cmd2_opts] ...]\n",
      "     or: setup.py --help [cmd1 cmd2 ...]\n",
      "     or: setup.py --help-commands\n",
      "     or: setup.py cmd --help\n",
      "  \n",
      "  error: invalid command 'bdist_wheel'\n",
      "  ----------------------------------------\n",
      "  ERROR: Failed building wheel for jstyleson\n"
     ]
    },
    {
     "name": "stdout",
     "output_type": "stream",
     "text": [
      "  Building wheel for pymoo (setup.py): started\n",
      "  Building wheel for pymoo (setup.py): finished with status 'error'\n",
      "  Running setup.py clean for pymoo\n"
     ]
    },
    {
     "name": "stderr",
     "output_type": "stream",
     "text": [
      "  ERROR: Command errored out with exit status 1:\n",
      "   command: /home/dell/MCBM/venv/bin/python -u -c 'import sys, setuptools, tokenize; sys.argv[0] = '\"'\"'/tmp/pip-install-okj3gdna/pymoo/setup.py'\"'\"'; __file__='\"'\"'/tmp/pip-install-okj3gdna/pymoo/setup.py'\"'\"';f=getattr(tokenize, '\"'\"'open'\"'\"', open)(__file__);code=f.read().replace('\"'\"'\\r\\n'\"'\"', '\"'\"'\\n'\"'\"');f.close();exec(compile(code, __file__, '\"'\"'exec'\"'\"'))' bdist_wheel -d /tmp/pip-wheel-_fdr_a8q\n",
      "       cwd: /tmp/pip-install-okj3gdna/pymoo/\n",
      "  Complete output (6 lines):\n",
      "  usage: setup.py [global_opts] cmd1 [cmd1_opts] [cmd2 [cmd2_opts] ...]\n",
      "     or: setup.py --help [cmd1 cmd2 ...]\n",
      "     or: setup.py --help-commands\n",
      "     or: setup.py cmd --help\n",
      "  \n",
      "  error: invalid command 'bdist_wheel'\n",
      "  ----------------------------------------\n",
      "  ERROR: Failed building wheel for pymoo\n"
     ]
    },
    {
     "name": "stdout",
     "output_type": "stream",
     "text": [
      "  Building wheel for langdetect (setup.py): started\n",
      "  Building wheel for langdetect (setup.py): finished with status 'error'\n",
      "  Running setup.py clean for langdetect\n"
     ]
    },
    {
     "name": "stderr",
     "output_type": "stream",
     "text": [
      "  ERROR: Command errored out with exit status 1:\n",
      "   command: /home/dell/MCBM/venv/bin/python -u -c 'import sys, setuptools, tokenize; sys.argv[0] = '\"'\"'/tmp/pip-install-okj3gdna/langdetect/setup.py'\"'\"'; __file__='\"'\"'/tmp/pip-install-okj3gdna/langdetect/setup.py'\"'\"';f=getattr(tokenize, '\"'\"'open'\"'\"', open)(__file__);code=f.read().replace('\"'\"'\\r\\n'\"'\"', '\"'\"'\\n'\"'\"');f.close();exec(compile(code, __file__, '\"'\"'exec'\"'\"'))' bdist_wheel -d /tmp/pip-wheel-d___co_1\n",
      "       cwd: /tmp/pip-install-okj3gdna/langdetect/\n",
      "  Complete output (6 lines):\n",
      "  usage: setup.py [global_opts] cmd1 [cmd1_opts] [cmd2 [cmd2_opts] ...]\n",
      "     or: setup.py --help [cmd1 cmd2 ...]\n",
      "     or: setup.py --help-commands\n",
      "     or: setup.py cmd --help\n",
      "  \n",
      "  error: invalid command 'bdist_wheel'\n",
      "  ----------------------------------------\n",
      "  ERROR: Failed building wheel for langdetect\n"
     ]
    },
    {
     "name": "stdout",
     "output_type": "stream",
     "text": [
      "  Building wheel for grapheme (setup.py): started\n",
      "  Building wheel for grapheme (setup.py): finished with status 'error'\n"
     ]
    },
    {
     "name": "stderr",
     "output_type": "stream",
     "text": [
      "  ERROR: Command errored out with exit status 1:\n",
      "   command: /home/dell/MCBM/venv/bin/python -u -c 'import sys, setuptools, tokenize; sys.argv[0] = '\"'\"'/tmp/pip-install-okj3gdna/grapheme/setup.py'\"'\"'; __file__='\"'\"'/tmp/pip-install-okj3gdna/grapheme/setup.py'\"'\"';f=getattr(tokenize, '\"'\"'open'\"'\"', open)(__file__);code=f.read().replace('\"'\"'\\r\\n'\"'\"', '\"'\"'\\n'\"'\"');f.close();exec(compile(code, __file__, '\"'\"'exec'\"'\"'))' bdist_wheel -d /tmp/pip-wheel-_ue0njbo\n",
      "       cwd: /tmp/pip-install-okj3gdna/grapheme/\n",
      "  Complete output (6 lines):\n",
      "  usage: setup.py [global_opts] cmd1 [cmd1_opts] [cmd2 [cmd2_opts] ...]\n",
      "     or: setup.py --help [cmd1 cmd2 ...]\n",
      "     or: setup.py --help-commands\n",
      "     or: setup.py cmd --help\n",
      "  \n",
      "  error: invalid command 'bdist_wheel'\n",
      "  ----------------------------------------\n",
      "  ERROR: Failed building wheel for grapheme\n"
     ]
    },
    {
     "name": "stdout",
     "output_type": "stream",
     "text": [
      "  Running setup.py clean for grapheme\n",
      "Successfully built optimum-intel\n",
      "Failed to build transformers-stream-generator jstyleson pymoo langdetect grapheme\n"
     ]
    },
    {
     "name": "stderr",
     "output_type": "stream",
     "text": [
      "ERROR: unstructured-client 0.26.1 has requirement python-dateutil==2.8.2, but you'll have python-dateutil 2.9.0.post0 which is incompatible.\n"
     ]
    },
    {
     "name": "stdout",
     "output_type": "stream",
     "text": [
      "Installing collected packages: tabulate, jstyleson, ninja, wrapt, Deprecated, grapheme, about-time, alive-progress, autograd, cma, dill, pymoo, pydot, threadpoolctl, joblib, scikit-learn, natsort, nncf, multidict, propcache, yarl, aiohappyeyeballs, async-timeout, frozenlist, aiosignal, aiohttp, multiprocess, fsspec, xxhash, datasets, accelerate, python-multipart, orjson, aiofiles, semantic-version, pydub, ruff, tomlkit, starlette, fastapi, ffmpy, websockets, gradio-client, shellingham, typer, uvicorn, gradio, onnx, einops, transformers-stream-generator, faiss-cpu, sentence-transformers, tenacity, jsonpointer, jsonpatch, requests-toolbelt, langsmith, langchain-core, greenlet, SQLAlchemy, langchain-text-splitters, langchain, marshmallow, mypy-extensions, typing-inspect, dataclasses-json, langchain-community, types-requests, langchainhub, emoji, pycparser, cffi, cryptography, jsonpath-python, pypdf, unstructured-client, python-magic, filetype, nltk, chardet, backoff, python-iso639, langdetect, unstructured, humanfriendly, coloredlogs, optimum, optimum-intel\n",
      "    Running setup.py install for jstyleson: started\n",
      "    Running setup.py install for jstyleson: finished with status 'done'\n",
      "    Running setup.py install for grapheme: started\n",
      "    Running setup.py install for grapheme: finished with status 'done'\n",
      "    Running setup.py install for pymoo: started\n",
      "    Running setup.py install for pymoo: finished with status 'done'\n",
      "  Attempting uninstall: fsspec\n",
      "    Found existing installation: fsspec 2024.10.0\n",
      "    Uninstalling fsspec-2024.10.0:\n",
      "      Successfully uninstalled fsspec-2024.10.0\n",
      "    Running setup.py install for transformers-stream-generator: started\n",
      "    Running setup.py install for transformers-stream-generator: finished with status 'done'\n",
      "  Attempting uninstall: tenacity\n",
      "    Found existing installation: tenacity 9.0.0\n",
      "    Uninstalling tenacity-9.0.0:\n",
      "      Successfully uninstalled tenacity-9.0.0\n",
      "    Running setup.py install for langdetect: started\n",
      "    Running setup.py install for langdetect: finished with status 'done'\n",
      "Successfully installed Deprecated-1.2.14 SQLAlchemy-2.0.36 about-time-4.2.1 accelerate-1.0.1 aiofiles-23.2.1 aiohappyeyeballs-2.4.3 aiohttp-3.10.10 aiosignal-1.3.1 alive-progress-3.1.5 async-timeout-4.0.3 autograd-1.7.0 backoff-2.2.1 cffi-1.17.1 chardet-5.2.0 cma-3.2.2 coloredlogs-15.0.1 cryptography-43.0.3 dataclasses-json-0.6.7 datasets-3.0.2 dill-0.3.8 einops-0.8.0 emoji-2.14.0 faiss-cpu-1.8.0.post1 fastapi-0.115.3 ffmpy-0.4.0 filetype-1.2.0 frozenlist-1.5.0 fsspec-2024.9.0 gradio-4.44.1 gradio-client-1.3.0 grapheme-0.6.0 greenlet-3.1.1 humanfriendly-10.0 joblib-1.4.2 jsonpatch-1.33 jsonpath-python-1.0.6 jsonpointer-3.0.0 jstyleson-0.0.2 langchain-0.2.16 langchain-community-0.2.17 langchain-core-0.2.41 langchain-text-splitters-0.2.4 langchainhub-0.1.21 langdetect-1.0.9 langsmith-0.1.137 marshmallow-3.22.0 multidict-6.1.0 multiprocess-0.70.16 mypy-extensions-1.0.0 natsort-8.4.0 ninja-1.11.1.1 nltk-3.9.1 nncf-2.13.0 onnx-1.16.1 optimum-1.23.2 optimum-intel-1.20.0.dev0+227defe orjson-3.10.10 propcache-0.2.0 pycparser-2.22 pydot-2.0.0 pydub-0.25.1 pymoo-0.6.1.2 pypdf-5.0.1 python-iso639-2024.10.22 python-magic-0.4.27 python-multipart-0.0.12 requests-toolbelt-1.0.0 ruff-0.7.0 scikit-learn-1.3.2 semantic-version-2.10.0 sentence-transformers-3.2.1 shellingham-1.5.4 starlette-0.41.0 tabulate-0.9.0 tenacity-8.5.0 threadpoolctl-3.5.0 tomlkit-0.12.0 transformers-stream-generator-0.0.5 typer-0.12.5 types-requests-2.32.0.20241016 typing-inspect-0.9.0 unstructured-0.11.8 unstructured-client-0.26.1 uvicorn-0.32.0 websockets-12.0 wrapt-1.16.0 xxhash-3.5.0 yarl-1.15.2\n"
     ]
    }
   ],
   "source": [
    "import os\n",
    "import requests\n",
    "\n",
    "r = requests.get(\n",
    "    url=\"https://raw.githubusercontent.com/openvinotoolkit/openvino_notebooks/latest/utils/notebook_utils.py\",\n",
    ")\n",
    "with open(\"notebook_utils.py\", \"w\") as f:\n",
    "    f.write(r.text)\n",
    "\n",
    "r = requests.get(\n",
    "    url=\"https://raw.githubusercontent.com/openvinotoolkit/openvino_notebooks/latest/utils/pip_helper.py\",\n",
    ")\n",
    "open(\"pip_helper.py\", \"w\").write(r.text)\n",
    "\n",
    "from pip_helper import pip_install\n",
    "\n",
    "os.environ[\"GIT_CLONE_PROTECTION_ACTIVE\"] = \"false\"\n",
    "\n",
    "pip_install(\"--pre\", \"-U\", \"openvino>=2024.2.0\", \"--extra-index-url\", \"https://storage.openvinotoolkit.org/simple/wheels/nightly\")\n",
    "pip_install( \"openvino-tokenizers[transformers]\", \"--extra-index-url\", \"https://storage.openvinotoolkit.org/simple/wheels/nightly\")\n",
    "pip_install(\n",
    "    \"--extra-index-url\",\n",
    "    \"https://download.pytorch.org/whl/cpu\",\n",
    "    \"git+https://github.com/huggingface/optimum-intel.git\",\n",
    "    \"nncf\",\n",
    "    \"datasets\",\n",
    "    \"accelerate\",\n",
    "    \"gradio>=4.19\",\n",
    "    \"onnx<1.16.2\",\n",
    "    \"einops\",\n",
    "    \"transformers_stream_generator\",\n",
    "    \"tiktoken\",\n",
    "    \"transformers>=4.43.1\",\n",
    "    \"faiss-cpu\",\n",
    "    \"sentence_transformers\",\n",
    "    \"langchain>=0.2.0\",\n",
    "    \"langchain-community>=0.2.15\",\n",
    "    \"langchainhub\",\n",
    "    \"unstructured\",\n",
    "    \"scikit-learn\",\n",
    "    \"python-docx\",\n",
    "    \"pypdf\",\n",
    ")"
   ]
  },
  {
   "cell_type": "code",
   "execution_count": 5,
   "id": "1b2c3f4e",
   "metadata": {},
   "outputs": [
    {
     "name": "stdout",
     "output_type": "stream",
     "text": [
      "LLM config will be updated\n"
     ]
    }
   ],
   "source": [
    "import os\n",
    "from pathlib import Path\n",
    "import requests\n",
    "import shutil\n",
    "import io\n",
    "\n",
    "# fetch model configuration\n",
    "\n",
    "config_shared_path = Path(\"../../utils/llm_config.py\")\n",
    "config_dst_path = Path(\"llm_config.py\")\n",
    "text_example_en_path = Path(\"text_example_en.pdf\")\n",
    "text_example_cn_path = Path(\"text_example_cn.pdf\")\n",
    "text_example_en = r'C:\\Users\\devcloud\\Desktop\\openvino_notebooks\\notebooks\\llm-rag-langchain\\text_example_en.pdf'\n",
    "text_example_cn = \"https://github.com/openvinotoolkit/openvino_notebooks/files/15039713/Platform.Brief_Intel.vPro.with.Intel.Core.Ultra_Final_CH.pdf\"\n",
    "\n",
    "if not config_dst_path.exists():\n",
    "    if config_shared_path.exists():\n",
    "        try:\n",
    "            os.symlink(config_shared_path, config_dst_path)\n",
    "        except Exception:\n",
    "            shutil.copy(config_shared_path, config_dst_path)\n",
    "    else:\n",
    "        r = requests.get(url=\"https://raw.githubusercontent.com/openvinotoolkit/openvino_notebooks/latest/utils/llm_config.py\")\n",
    "        with open(\"llm_config.py\", \"w\", encoding=\"utf-8\") as f:\n",
    "            f.write(r.text)\n",
    "elif not os.path.islink(config_dst_path):\n",
    "    print(\"LLM config will be updated\")\n",
    "    if config_shared_path.exists():\n",
    "        shutil.copy(config_shared_path, config_dst_path)\n",
    "    else:\n",
    "        r = requests.get(url=\"https://raw.githubusercontent.com/openvinotoolkit/openvino_notebooks/latest/utils/llm_config.py\")\n",
    "        with open(\"llm_config.py\", \"w\", encoding=\"utf-8\") as f:\n",
    "            f.write(r.text)\n",
    "\n",
    "if not text_example_en_path.exists():\n",
    "    r = requests.get(url=text_example_en)\n",
    "    content = io.BytesIO(r.content)\n",
    "    with open(\"text_example_en.pdf\", \"wb\") as f:\n",
    "        f.write(content.read())\n",
    "\n",
    "if not text_example_cn_path.exists():\n",
    "    r = requests.get(url=text_example_cn)\n",
    "    content = io.BytesIO(r.content)\n",
    "    with open(\"text_example_cn.pdf\", \"wb\") as f:\n",
    "        f.write(content.read())"
   ]
  },
  {
   "attachments": {},
   "cell_type": "markdown",
   "id": "c8e7965f",
   "metadata": {},
   "source": [
    "## Select model for inference\n",
    "\n",
    "[back to top ⬆️](#Table-of-contents:)\n",
    "\n",
    "The tutorial supports different models, you can select one from the provided options to compare the quality of open source LLM solutions.\n",
    "\n",
    "> **Note**: conversion of some models can require additional actions from user side and at least 64GB RAM for conversion.\n",
    "\n",
    "The available embedding model options are:\n",
    "\n",
    "- [**bge-small-en-v1.5**](https://huggingface.co/BAAI/bge-small-en-v1.5)\n",
    "- [**bge-small-zh-v1.5**](https://huggingface.co/BAAI/bge-small-zh-v1.5)\n",
    "- [**bge-large-en-v1.5**](https://huggingface.co/BAAI/bge-large-en-v1.5)\n",
    "- [**bge-large-zh-v1.5**](https://huggingface.co/BAAI/bge-large-zh-v1.5)\n",
    "- [**bge-m3**](https://huggingface.co/BAAI/bge-m3)\n",
    "\n",
    "BGE embedding is a general Embedding Model. The model is pre-trained using RetroMAE and trained on large-scale pair data using contrastive learning.\n",
    "\n",
    "The available rerank model options are:\n",
    "\n",
    "- [**bge-reranker-v2-m3**](https://huggingface.co/BAAI/bge-reranker-v2-m3)\n",
    "- [**bge-reranker-large**](https://huggingface.co/BAAI/bge-reranker-large)\n",
    "- [**bge-reranker-base**](https://huggingface.co/BAAI/bge-reranker-base)\n",
    "\n",
    "Reranker model with cross-encoder will perform full-attention over the input pair, which is more accurate than embedding model (i.e., bi-encoder) but more time-consuming than embedding model. Therefore, it can be used to re-rank the top-k documents returned by embedding model.\n",
    "\n",
    "You can also find available LLM model options in [llm-chatbot](../llm-chatbot/README.md) notebook.\n"
   ]
  },
  {
   "cell_type": "code",
   "execution_count": 7,
   "id": "d3b57cfb-e727-43a5-b2c9-8f1b1ba72061",
   "metadata": {},
   "outputs": [],
   "source": [
    "from pathlib import Path\n",
    "import torch\n",
    "import ipywidgets as widgets\n",
    "from transformers import (\n",
    "    TextIteratorStreamer,\n",
    "    StoppingCriteria,\n",
    "    StoppingCriteriaList,\n",
    ")"
   ]
  },
  {
   "attachments": {},
   "cell_type": "markdown",
   "id": "b51ff5a9",
   "metadata": {},
   "source": [
    "## Convert model and compress model weights\n",
    "\n",
    "[back to top ⬆️](#Table-of-contents:)\n",
    "\n",
    "The Weights Compression algorithm is aimed at compressing the weights of the models and can be used to optimize the model footprint and performance of large models where the size of weights is relatively larger than the size of activations, for example, Large Language Models (LLM). Compared to INT8 compression, INT4 compression improves performance even more, but introduces a minor drop in prediction quality."
   ]
  },
  {
   "cell_type": "code",
   "execution_count": 8,
   "id": "37bf49d7",
   "metadata": {},
   "outputs": [
    {
     "data": {
      "application/vnd.jupyter.widget-view+json": {
       "model_id": "9300ab4c9900466882fc5f352eddafe4",
       "version_major": 2,
       "version_minor": 0
      },
      "text/plain": [
       "Dropdown(description='Model Language:', options=('English', 'Chinese', 'Japanese'), value='English')"
      ]
     },
     "execution_count": 8,
     "metadata": {},
     "output_type": "execute_result"
    }
   ],
   "source": [
    "from llm_config import (\n",
    "    SUPPORTED_EMBEDDING_MODELS,\n",
    "    SUPPORTED_RERANK_MODELS,\n",
    "    SUPPORTED_LLM_MODELS,\n",
    ")\n",
    "\n",
    "model_languages = list(SUPPORTED_LLM_MODELS)\n",
    "\n",
    "model_language = widgets.Dropdown(\n",
    "    options=model_languages,\n",
    "    value=model_languages[0],\n",
    "    description=\"Model Language:\",\n",
    "    disabled=False,\n",
    ")\n",
    "\n",
    "model_language"
   ]
  },
  {
   "cell_type": "code",
   "execution_count": 5,
   "id": "184d1678-0e73-4f35-8af5-1a7d291c2e6e",
   "metadata": {},
   "outputs": [
    {
     "data": {
      "application/vnd.jupyter.widget-view+json": {
       "model_id": "cc7ed4a4051d453c9e235960538484d4",
       "version_major": 2,
       "version_minor": 0
      },
      "text/plain": [
       "Dropdown(description='Model:', index=19, options=('tiny-llama-1b-chat', 'llama-3.2-1b-instruct', 'llama-3.2-3b…"
      ]
     },
     "execution_count": 5,
     "metadata": {},
     "output_type": "execute_result"
    }
   ],
   "source": [
    "llm_model_ids = [model_id for model_id, model_config in SUPPORTED_LLM_MODELS[model_language.value].items() if model_config.get(\"rag_prompt_template\")]\n",
    "\n",
    "llm_model_id = widgets.Dropdown(\n",
    "    options=llm_model_ids,\n",
    "    value=llm_model_ids[-1],\n",
    "    description=\"Model:\",\n",
    "    disabled=False,\n",
    ")\n",
    "\n",
    "llm_model_id"
   ]
  },
  {
   "cell_type": "code",
   "execution_count": 6,
   "id": "49ea95f8",
   "metadata": {},
   "outputs": [
    {
     "name": "stdout",
     "output_type": "stream",
     "text": [
      "Selected LLM model llama-3.1-8b-instruct\n"
     ]
    }
   ],
   "source": [
    "llm_model_configuration = SUPPORTED_LLM_MODELS[model_language.value][llm_model_id.value]\n",
    "print(f\"Selected LLM model {llm_model_id.value}\")"
   ]
  },
  {
   "attachments": {},
   "cell_type": "markdown",
   "id": "5d370f13",
   "metadata": {},
   "source": [
    "🤗 [Optimum Intel](https://huggingface.co/docs/optimum/intel/index) is the interface between the 🤗 [Transformers](https://huggingface.co/docs/transformers/index) and [Diffusers](https://huggingface.co/docs/diffusers/index) libraries and OpenVINO to accelerate end-to-end pipelines on Intel architectures. It provides ease-to-use cli interface for exporting models to [OpenVINO Intermediate Representation (IR)](https://docs.openvino.ai/2024/documentation/openvino-ir-format.html) format.\n",
    "\n",
    "The command bellow demonstrates basic command for model export with `optimum-cli`\n",
    "\n",
    "```\n",
    "optimum-cli export openvino --model <model_id_or_path> --task <task> <out_dir>\n",
    "```\n",
    "\n",
    "where `--model` argument is model id from HuggingFace Hub or local directory with model (saved using `.save_pretrained` method), `--task ` is one of [supported task](https://huggingface.co/docs/optimum/exporters/task_manager) that exported model should solve. For LLMs it will be `text-generation-with-past`. If model initialization requires to use remote code, `--trust-remote-code` flag additionally should be passed.\n"
   ]
  },
  {
   "attachments": {},
   "cell_type": "markdown",
   "id": "6337eab8",
   "metadata": {},
   "source": [
    "### LLM conversion and Weights Compression using Optimum-CLI\n",
    "\n",
    "[back to top ⬆️](#Table-of-contents:)\n",
    "\n",
    "You can also apply fp16, 8-bit or 4-bit weight compression on the Linear, Convolutional and Embedding layers when exporting your model with the CLI by setting `--weight-format` to respectively fp16, int8 or int4. This type of optimization allows to reduce the memory footprint and inference latency.\n",
    "By default the quantization scheme for int8/int4 will be [asymmetric](https://github.com/openvinotoolkit/nncf/blob/develop/docs/compression_algorithms/Quantization.md#asymmetric-quantization), to make it [symmetric](https://github.com/openvinotoolkit/nncf/blob/develop/docs/compression_algorithms/Quantization.md#symmetric-quantization) you can add `--sym`.\n",
    "\n",
    "For INT4 quantization you can also specify the following arguments :\n",
    "\n",
    "- The `--group-size` parameter will define the group size to use for quantization, -1 it will results in per-column quantization.\n",
    "- The `--ratio` parameter controls the ratio between 4-bit and 8-bit quantization. If set to 0.9, it means that 90% of the layers will be quantized to int4 while 10% will be quantized to int8.\n",
    "\n",
    "Smaller group_size and ratio values usually improve accuracy at the sacrifice of the model size and inference latency.\n",
    "\n",
    "> **Note**: There may be no speedup for INT4/INT8 compressed models on dGPU.\n"
   ]
  },
  {
   "cell_type": "code",
   "execution_count": 7,
   "id": "c6a38153",
   "metadata": {},
   "outputs": [
    {
     "data": {
      "application/vnd.jupyter.widget-view+json": {
       "model_id": "bb5d74c1ff774980aec589ea878c526d",
       "version_major": 2,
       "version_minor": 0
      },
      "text/plain": [
       "Checkbox(value=True, description='Prepare INT4 model')"
      ]
     },
     "metadata": {},
     "output_type": "display_data"
    },
    {
     "data": {
      "application/vnd.jupyter.widget-view+json": {
       "model_id": "712193101c7c49fd9bc7fb1fc7484690",
       "version_major": 2,
       "version_minor": 0
      },
      "text/plain": [
       "Checkbox(value=False, description='Prepare INT8 model')"
      ]
     },
     "metadata": {},
     "output_type": "display_data"
    },
    {
     "data": {
      "application/vnd.jupyter.widget-view+json": {
       "model_id": "3d8c41d2bf994ce880742e7bd51be205",
       "version_major": 2,
       "version_minor": 0
      },
      "text/plain": [
       "Checkbox(value=False, description='Prepare FP16 model')"
      ]
     },
     "metadata": {},
     "output_type": "display_data"
    }
   ],
   "source": [
    "from IPython.display import Markdown, display\n",
    "\n",
    "prepare_int4_model = widgets.Checkbox(\n",
    "    value=True,\n",
    "    description=\"Prepare INT4 model\",\n",
    "    disabled=False,\n",
    ")\n",
    "prepare_int8_model = widgets.Checkbox(\n",
    "    value=False,\n",
    "    description=\"Prepare INT8 model\",\n",
    "    disabled=False,\n",
    ")\n",
    "prepare_fp16_model = widgets.Checkbox(\n",
    "    value=False,\n",
    "    description=\"Prepare FP16 model\",\n",
    "    disabled=False,\n",
    ")\n",
    "\n",
    "display(prepare_int4_model)\n",
    "display(prepare_int8_model)\n",
    "display(prepare_fp16_model)"
   ]
  },
  {
   "attachments": {},
   "cell_type": "markdown",
   "id": "86920fde",
   "metadata": {},
   "source": [
    "#### Weight compression with AWQ\n",
    "[back to top ⬆️](#Table-of-contents:)\n",
    "\n",
    "[Activation-aware Weight Quantization](https://arxiv.org/abs/2306.00978) (AWQ) is an algorithm that tunes model weights for more accurate INT4 compression. It slightly improves generation quality of compressed LLMs, but requires significant additional time for tuning weights on a calibration dataset. We use `wikitext-2-raw-v1/train` subset of the [Wikitext](https://huggingface.co/datasets/Salesforce/wikitext) dataset for calibration.\n",
    "\n",
    "Below you can enable AWQ to be additionally applied during model export with INT4 precision.\n",
    "\n",
    ">**Note**: Applying AWQ requires significant memory and time.\n",
    "\n",
    ">**Note**: It is possible that there will be no matching patterns in the model to apply AWQ, in such case it will be skipped."
   ]
  },
  {
   "cell_type": "code",
   "execution_count": 8,
   "id": "e4531bbd67d8753d",
   "metadata": {},
   "outputs": [
    {
     "data": {
      "application/vnd.jupyter.widget-view+json": {
       "model_id": "447efcc83f8f4932ad4248d97c752994",
       "version_major": 2,
       "version_minor": 0
      },
      "text/plain": [
       "Checkbox(value=False, description='Enable AWQ')"
      ]
     },
     "metadata": {},
     "output_type": "display_data"
    }
   ],
   "source": [
    "enable_awq = widgets.Checkbox(\n",
    "    value=False,\n",
    "    description=\"Enable AWQ\",\n",
    "    disabled=not prepare_int4_model.value,\n",
    ")\n",
    "display(enable_awq)"
   ]
  },
  {
   "cell_type": "code",
   "execution_count": 9,
   "id": "2020d522",
   "metadata": {},
   "outputs": [],
   "source": [
    "pt_model_id = llm_model_configuration[\"model_id\"]\n",
    "pt_model_name = llm_model_id.value.split(\"-\")[0]\n",
    "fp16_model_dir = Path(llm_model_id.value) / \"FP16\"\n",
    "int8_model_dir = Path(llm_model_id.value) / \"INT8_compressed_weights\"\n",
    "int4_model_dir = Path(llm_model_id.value) / \"INT4_compressed_weights\"\n",
    "\n",
    "\n",
    "def convert_to_fp16():\n",
    "    if (fp16_model_dir / \"openvino_model.xml\").exists():\n",
    "        return\n",
    "    remote_code = llm_model_configuration.get(\"remote_code\", False)\n",
    "    export_command_base = \"optimum-cli export openvino --model {} --task text-generation-with-past --weight-format fp16\".format(pt_model_id)\n",
    "    if remote_code:\n",
    "        export_command_base += \" --trust-remote-code\"\n",
    "    export_command = export_command_base + \" \" + str(fp16_model_dir)\n",
    "    display(Markdown(\"**Export command:**\"))\n",
    "    display(Markdown(f\"`{export_command}`\"))\n",
    "    ! $export_command\n",
    "\n",
    "\n",
    "def convert_to_int8():\n",
    "    if (int8_model_dir / \"openvino_model.xml\").exists():\n",
    "        return\n",
    "    int8_model_dir.mkdir(parents=True, exist_ok=True)\n",
    "    remote_code = llm_model_configuration.get(\"remote_code\", False)\n",
    "    export_command_base = \"optimum-cli export openvino --model {} --task text-generation-with-past --weight-format int8\".format(pt_model_id)\n",
    "    if remote_code:\n",
    "        export_command_base += \" --trust-remote-code\"\n",
    "    export_command = export_command_base + \" \" + str(int8_model_dir)\n",
    "    display(Markdown(\"**Export command:**\"))\n",
    "    display(Markdown(f\"`{export_command}`\"))\n",
    "    ! $export_command\n",
    "\n",
    "\n",
    "def convert_to_int4():\n",
    "    compression_configs = {\n",
    "        \"zephyr-7b-beta\": {\n",
    "            \"sym\": True,\n",
    "            \"group_size\": 64,\n",
    "            \"ratio\": 0.6,\n",
    "        },\n",
    "        \"mistral-7b\": {\n",
    "            \"sym\": True,\n",
    "            \"group_size\": 64,\n",
    "            \"ratio\": 0.6,\n",
    "        },\n",
    "        \"minicpm-2b-dpo\": {\n",
    "            \"sym\": True,\n",
    "            \"group_size\": 64,\n",
    "            \"ratio\": 0.6,\n",
    "        },\n",
    "        \"gemma-2b-it\": {\n",
    "            \"sym\": True,\n",
    "            \"group_size\": 64,\n",
    "            \"ratio\": 0.6,\n",
    "        },\n",
    "        \"notus-7b-v1\": {\n",
    "            \"sym\": True,\n",
    "            \"group_size\": 64,\n",
    "            \"ratio\": 0.6,\n",
    "        },\n",
    "        \"neural-chat-7b-v3-1\": {\n",
    "            \"sym\": True,\n",
    "            \"group_size\": 64,\n",
    "            \"ratio\": 0.6,\n",
    "        },\n",
    "        \"llama-2-chat-7b\": {\n",
    "            \"sym\": True,\n",
    "            \"group_size\": 128,\n",
    "            \"ratio\": 0.8,\n",
    "        },\n",
    "        \"llama-3-8b-instruct\": {\n",
    "            \"sym\": True,\n",
    "            \"group_size\": 128,\n",
    "            \"ratio\": 0.8,\n",
    "        },\n",
    "        \"gemma-7b-it\": {\n",
    "            \"sym\": True,\n",
    "            \"group_size\": 128,\n",
    "            \"ratio\": 0.8,\n",
    "        },\n",
    "        \"chatglm2-6b\": {\n",
    "            \"sym\": True,\n",
    "            \"group_size\": 128,\n",
    "            \"ratio\": 0.72,\n",
    "        },\n",
    "        \"qwen-7b-chat\": {\"sym\": True, \"group_size\": 128, \"ratio\": 0.6},\n",
    "        \"red-pajama-3b-chat\": {\n",
    "            \"sym\": False,\n",
    "            \"group_size\": 128,\n",
    "            \"ratio\": 0.5,\n",
    "        },\n",
    "        \"qwen2.5-7b-instruct\": {\"sym\": True, \"group_size\": 128, \"ratio\": 1.0},\n",
    "        \"qwen2.5-3b-instruct\": {\"sym\": True, \"group_size\": 128, \"ratio\": 1.0},\n",
    "        \"qwen2.5-14b-instruct\": {\"sym\": True, \"group_size\": 128, \"ratio\": 1.0},\n",
    "        \"qwen2.5-1.5b-instruct\": {\"sym\": True, \"group_size\": 128, \"ratio\": 1.0},\n",
    "        \"qwen2.5-0.5b-instruct\": {\"sym\": True, \"group_size\": 128, \"ratio\": 1.0},\n",
    "        \"default\": {\n",
    "            \"sym\": False,\n",
    "            \"group_size\": 128,\n",
    "            \"ratio\": 0.8,\n",
    "        },\n",
    "    }\n",
    "\n",
    "    model_compression_params = compression_configs.get(llm_model_id.value, compression_configs[\"default\"])\n",
    "    if (int4_model_dir / \"openvino_model.xml\").exists():\n",
    "        return\n",
    "    remote_code = llm_model_configuration.get(\"remote_code\", False)\n",
    "    export_command_base = \"optimum-cli export openvino --model {} --task text-generation-with-past --weight-format int4\".format(pt_model_id)\n",
    "    int4_compression_args = \" --group-size {} --ratio {}\".format(model_compression_params[\"group_size\"], model_compression_params[\"ratio\"])\n",
    "    if model_compression_params[\"sym\"]:\n",
    "        int4_compression_args += \" --sym\"\n",
    "    if enable_awq.value:\n",
    "        int4_compression_args += \" --awq --dataset wikitext2 --num-samples 128\"\n",
    "    export_command_base += int4_compression_args\n",
    "    if remote_code:\n",
    "        export_command_base += \" --trust-remote-code\"\n",
    "    export_command = export_command_base + \" \" + str(int4_model_dir)\n",
    "    display(Markdown(\"**Export command:**\"))\n",
    "    display(Markdown(f\"`{export_command}`\"))\n",
    "    ! $export_command\n",
    "\n",
    "\n",
    "if prepare_fp16_model.value:\n",
    "    convert_to_fp16()\n",
    "if prepare_int8_model.value:\n",
    "    convert_to_int8()\n",
    "if prepare_int4_model.value:\n",
    "    convert_to_int4()"
   ]
  },
  {
   "attachments": {},
   "cell_type": "markdown",
   "id": "f1d1d1a2",
   "metadata": {},
   "source": [
    "Let's compare model size for different compression types\n"
   ]
  },
  {
   "attachments": {},
   "cell_type": "markdown",
   "id": "4f943465",
   "metadata": {},
   "source": [
    "### Convert embedding model using Optimum-CLI\n",
    "\n",
    "[back to top ⬆️](#Table-of-contents:)\n",
    "\n",
    "Since some embedding models can only support limited languages, we can filter them out according the LLM you selected.\n"
   ]
  },
  {
   "cell_type": "code",
   "execution_count": 11,
   "id": "49c28d3a",
   "metadata": {},
   "outputs": [
    {
     "data": {
      "application/vnd.jupyter.widget-view+json": {
       "model_id": "c63db429c95c40d99075af96b96113ff",
       "version_major": 2,
       "version_minor": 0
      },
      "text/plain": [
       "Dropdown(description='Embedding Model:', options=('bge-small-en-v1.5', 'bge-large-en-v1.5', 'bge-m3'), value='…"
      ]
     },
     "execution_count": 11,
     "metadata": {},
     "output_type": "execute_result"
    }
   ],
   "source": [
    "embedding_model_id = list(SUPPORTED_EMBEDDING_MODELS[model_language.value])\n",
    "\n",
    "embedding_model_id = widgets.Dropdown(\n",
    "    options=embedding_model_id,\n",
    "    value=embedding_model_id[0],\n",
    "    description=\"Embedding Model:\",\n",
    "    disabled=False,\n",
    ")\n",
    "\n",
    "embedding_model_id"
   ]
  },
  {
   "cell_type": "code",
   "execution_count": 12,
   "id": "3594116d",
   "metadata": {},
   "outputs": [
    {
     "name": "stdout",
     "output_type": "stream",
     "text": [
      "Selected bge-m3 model\n"
     ]
    }
   ],
   "source": [
    "embedding_model_configuration = SUPPORTED_EMBEDDING_MODELS[model_language.value][embedding_model_id.value]\n",
    "print(f\"Selected {embedding_model_id.value} model\")"
   ]
  },
  {
   "attachments": {},
   "cell_type": "markdown",
   "id": "749b5bbd",
   "metadata": {},
   "source": [
    "## Select device for inference and model variant\n",
    "\n",
    "[back to top ⬆️](#Table-of-contents:)\n",
    "\n",
    "> **Note**: There may be no speedup for INT4/INT8 compressed models on dGPU.\n",
    "\n",
    "### Select device for embedding model inference\n",
    "\n",
    "[back to top ⬆️](#Table-of-contents:)\n"
   ]
  },
  {
   "cell_type": "code",
   "execution_count": 13,
   "id": "e11e73cf",
   "metadata": {},
   "outputs": [
    {
     "data": {
      "application/vnd.jupyter.widget-view+json": {
       "model_id": "ab018db21c7a48d7b987f89cd1558a4c",
       "version_major": 2,
       "version_minor": 0
      },
      "text/plain": [
       "Dropdown(description='Device:', index=3, options=('CPU', 'GPU', 'NPU', 'AUTO'), value='AUTO')"
      ]
     },
     "execution_count": 13,
     "metadata": {},
     "output_type": "execute_result"
    }
   ],
   "source": [
    "from notebook_utils import device_widget\n",
    "\n",
    "embedding_device = device_widget()\n",
    "\n",
    "embedding_device"
   ]
  },
  {
   "cell_type": "code",
   "execution_count": 14,
   "id": "9ab29b85",
   "metadata": {},
   "outputs": [
    {
     "name": "stdout",
     "output_type": "stream",
     "text": [
      "Embedding model will be loaded to NPU device for text embedding\n"
     ]
    }
   ],
   "source": [
    "print(f\"Embedding model will be loaded to {embedding_device.value} device for text embedding\")"
   ]
  },
  {
   "attachments": {},
   "cell_type": "markdown",
   "id": "60cdfe3e-5716-49b8-81fa-58b5d039495e",
   "metadata": {},
   "source": [
    "Optimize the BGE embedding model's parameter precision when loading model to NPU device."
   ]
  },
  {
   "cell_type": "code",
   "execution_count": 16,
   "id": "ad95d16b",
   "metadata": {},
   "outputs": [],
   "source": [
    "from notebook_utils import optimize_bge_embedding\n",
    "\n",
    "USING_NPU = embedding_device.value == \"NPU\"\n",
    "\n",
    "npu_embedding_dir = embedding_model_id.value + \"-npu\"\n",
    "npu_embedding_path = Path(npu_embedding_dir) / \"openvino_model.xml\"\n",
    "if USING_NPU and not Path(npu_embedding_dir).exists():\n",
    "    shutil.copytree(embedding_model_id.value, npu_embedding_dir)\n",
    "    optimize_bge_embedding(Path(embedding_model_id.value) / \"openvino_model.xml\", npu_embedding_path)"
   ]
  },
  {
   "attachments": {},
   "cell_type": "markdown",
   "id": "81b2644c",
   "metadata": {},
   "source": [
    "### Select device for rerank model inference\n",
    "\n",
    "[back to top ⬆️](#Table-of-contents:)\n"
   ]
  },
  {
   "attachments": {},
   "cell_type": "markdown",
   "id": "ef31656a",
   "metadata": {},
   "source": [
    "### Select device for LLM model inference\n",
    "\n",
    "[back to top ⬆️](#Table-of-contents:)\n"
   ]
  },
  {
   "cell_type": "code",
   "execution_count": 18,
   "id": "6d044d01",
   "metadata": {},
   "outputs": [
    {
     "data": {
      "application/vnd.jupyter.widget-view+json": {
       "model_id": "bca1baa08be04524bceeba87ff52c0a6",
       "version_major": 2,
       "version_minor": 0
      },
      "text/plain": [
       "Dropdown(description='Device:', options=('CPU', 'GPU', 'AUTO'), value='CPU')"
      ]
     },
     "execution_count": 18,
     "metadata": {},
     "output_type": "execute_result"
    }
   ],
   "source": [
    "from notebook_utils import device_widget\n",
    "\n",
    "llm_device = device_widget(\"CPU\", exclude=[\"NPU\"])\n",
    "\n",
    "llm_device"
   ]
  },
  {
   "cell_type": "code",
   "execution_count": 19,
   "id": "348b90fe",
   "metadata": {},
   "outputs": [
    {
     "name": "stdout",
     "output_type": "stream",
     "text": [
      "LLM model will be loaded to GPU device for response generation\n"
     ]
    }
   ],
   "source": [
    "print(f\"LLM model will be loaded to {llm_device.value} device for response generation\")"
   ]
  },
  {
   "attachments": {},
   "cell_type": "markdown",
   "id": "bc225391",
   "metadata": {},
   "source": [
    "## Load models\n",
    "\n",
    "[back to top ⬆️](#Table-of-contents:)\n",
    "\n",
    "### Load embedding model\n",
    "\n",
    "[back to top ⬆️](#Table-of-contents:)\n",
    "\n",
    "Now a Hugging Face embedding model can be supported by OpenVINO through [`OpenVINOEmbeddings`](https://python.langchain.com/docs/integrations/text_embedding/openvino) and [`OpenVINOBgeEmbeddings`](https://python.langchain.com/docs/integrations/text_embedding/openvino#bge-with-openvino)classes of LangChain.\n"
   ]
  },
  {
   "cell_type": "code",
   "execution_count": 20,
   "id": "df3e8fd1-d4c1-4e33-b46e-7840e392f8ee",
   "metadata": {},
   "outputs": [
    {
     "data": {
      "text/plain": [
       "[-0.0089380769059062, 0.034432899206876755, -0.024903837591409683]"
      ]
     },
     "execution_count": 20,
     "metadata": {},
     "output_type": "execute_result"
    }
   ],
   "source": [
    "from langchain_community.embeddings import OpenVINOBgeEmbeddings\n",
    "\n",
    "embedding_model_name = npu_embedding_dir if USING_NPU else embedding_model_id.value\n",
    "batch_size = 1 if USING_NPU else 4\n",
    "embedding_model_kwargs = {\"device\": embedding_device.value, \"compile\": False}\n",
    "encode_kwargs = {\n",
    "    \"mean_pooling\": embedding_model_configuration[\"mean_pooling\"],\n",
    "    \"normalize_embeddings\": embedding_model_configuration[\"normalize_embeddings\"],\n",
    "    \"batch_size\": batch_size,\n",
    "}\n",
    "\n",
    "embedding = OpenVINOBgeEmbeddings(\n",
    "    model_name_or_path=embedding_model_name,\n",
    "    model_kwargs=embedding_model_kwargs,\n",
    "    encode_kwargs=encode_kwargs,\n",
    ")\n",
    "if USING_NPU:\n",
    "    embedding.ov_model.reshape(1, 512)\n",
    "embedding.ov_model.compile()\n",
    "\n",
    "text = \"This is a test document.\"\n",
    "embedding_result = embedding.embed_query(text)\n",
    "embedding_result[:3]"
   ]
  },
  {
   "attachments": {},
   "cell_type": "markdown",
   "id": "d1a1fd58",
   "metadata": {},
   "source": [
    "### Load rerank model\n",
    "\n",
    "[back to top ⬆️](#Table-of-contents:)\n",
    "\n",
    "Now a Hugging Face embedding model can be supported by OpenVINO through [`OpenVINOReranker`](https://python.langchain.com/docs/integrations/document_transformers/openvino_rerank) class of LangChain.\n",
    "\n",
    "> **Note**: Rerank can be skipped in RAG.\n"
   ]
  },
  {
   "attachments": {},
   "cell_type": "markdown",
   "id": "79fe990a",
   "metadata": {},
   "source": [
    "### Load LLM model\n",
    "\n",
    "[back to top ⬆️](#Table-of-contents:)\n",
    "\n",
    "OpenVINO models can be run locally through the `HuggingFacePipeline` class. To deploy a model with OpenVINO, you can specify the `backend=\"openvino\"` parameter to trigger OpenVINO as backend inference framework.\n"
   ]
  },
  {
   "cell_type": "code",
   "execution_count": 21,
   "id": "90b968f3",
   "metadata": {},
   "outputs": [
    {
     "data": {
      "application/vnd.jupyter.widget-view+json": {
       "model_id": "289918ed06134c9cbf66cd332a08761c",
       "version_major": 2,
       "version_minor": 0
      },
      "text/plain": [
       "Dropdown(description='Model to run:', options=('INT4',), value='INT4')"
      ]
     },
     "execution_count": 21,
     "metadata": {},
     "output_type": "execute_result"
    }
   ],
   "source": [
    "available_models = []\n",
    "if int4_model_dir.exists():\n",
    "    available_models.append(\"INT4\")\n",
    "if int8_model_dir.exists():\n",
    "    available_models.append(\"INT8\")\n",
    "if fp16_model_dir.exists():\n",
    "    available_models.append(\"FP16\")\n",
    "\n",
    "model_to_run = widgets.Dropdown(\n",
    "    options=available_models,\n",
    "    value=available_models[0],\n",
    "    description=\"Model to run:\",\n",
    "    disabled=False,\n",
    ")\n",
    "\n",
    "model_to_run"
   ]
  },
  {
   "attachments": {},
   "cell_type": "markdown",
   "id": "20fcc33c",
   "metadata": {},
   "source": [
    "OpenVINO models can be run locally through the `HuggingFacePipeline` class in [LangChain](https://python.langchain.com/docs/integrations/llms/openvino/). To deploy a model with OpenVINO, you can specify the `backend=\"openvino\"` parameter to trigger OpenVINO as backend inference framework.\n"
   ]
  },
  {
   "cell_type": "code",
   "execution_count": 22,
   "id": "f7f708db-8de1-4efd-94b2-fcabc48d52f4",
   "metadata": {},
   "outputs": [
    {
     "name": "stdout",
     "output_type": "stream",
     "text": [
      "Loading model from llama-3.1-8b-instruct\\INT4_compressed_weights\n"
     ]
    },
    {
     "name": "stderr",
     "output_type": "stream",
     "text": [
      "Setting `pad_token_id` to `eos_token_id`:None for open-end generation.\n"
     ]
    },
    {
     "data": {
      "text/plain": [
       "'2 + 2 =?\\nThis'"
      ]
     },
     "execution_count": 22,
     "metadata": {},
     "output_type": "execute_result"
    }
   ],
   "source": [
    "from langchain_community.llms.huggingface_pipeline import HuggingFacePipeline\n",
    "\n",
    "import openvino.properties as props\n",
    "import openvino.properties.hint as hints\n",
    "import openvino.properties.streams as streams\n",
    "\n",
    "\n",
    "if model_to_run.value == \"INT4\":\n",
    "    model_dir = int4_model_dir\n",
    "elif model_to_run.value == \"INT8\":\n",
    "    model_dir = int8_model_dir\n",
    "else:\n",
    "    model_dir = fp16_model_dir\n",
    "print(f\"Loading model from {model_dir}\")\n",
    "\n",
    "ov_config = {hints.performance_mode(): hints.PerformanceMode.LATENCY, streams.num(): \"1\", props.cache_dir(): \"\"}\n",
    "\n",
    "if \"GPU\" in llm_device.value and \"qwen2-7b-instruct\" in llm_model_id.value:\n",
    "    ov_config[\"GPU_ENABLE_SDPA_OPTIMIZATION\"] = \"NO\"\n",
    "\n",
    "# On a GPU device a model is executed in FP16 precision. For red-pajama-3b-chat model there known accuracy\n",
    "# issues caused by this, which we avoid by setting precision hint to \"f32\".\n",
    "if llm_model_id.value == \"red-pajama-3b-chat\" and \"GPU\" in core.available_devices and llm_device.value in [\"GPU\", \"AUTO\"]:\n",
    "    ov_config[\"INFERENCE_PRECISION_HINT\"] = \"f32\"\n",
    "\n",
    "llm = HuggingFacePipeline.from_model_id(\n",
    "    model_id=str(model_dir),\n",
    "    task=\"text-generation\",\n",
    "    backend=\"openvino\",\n",
    "    model_kwargs={\n",
    "        \"device\": llm_device.value,\n",
    "        \"ov_config\": ov_config,\n",
    "        \"trust_remote_code\": True,\n",
    "    },\n",
    "    pipeline_kwargs={\"max_new_tokens\": 2},\n",
    ")\n",
    "\n",
    "if llm.pipeline.tokenizer.eos_token_id:\n",
    "    llm.pipeline.tokenizer.pad_token_id = llm.pipeline.tokenizer.eos_token_id\n",
    "\n",
    "llm.invoke(\"2 + 2 =\")"
   ]
  },
  {
   "cell_type": "code",
   "execution_count": 23,
   "id": "5b97eeeb",
   "metadata": {},
   "outputs": [],
   "source": [
    "import re\n",
    "from typing import List\n",
    "from langchain.text_splitter import (\n",
    "    CharacterTextSplitter,\n",
    "    RecursiveCharacterTextSplitter,\n",
    "    MarkdownTextSplitter,\n",
    ")\n",
    "from langchain.document_loaders import (\n",
    "    CSVLoader,\n",
    "    EverNoteLoader,\n",
    "    PyPDFLoader,\n",
    "    TextLoader,\n",
    "    UnstructuredEPubLoader,\n",
    "    UnstructuredHTMLLoader,\n",
    "    UnstructuredMarkdownLoader,\n",
    "    UnstructuredODTLoader,\n",
    "    UnstructuredPowerPointLoader,\n",
    "    UnstructuredWordDocumentLoader,\n",
    ")\n",
    "\n",
    "\n",
    "class ChineseTextSplitter(CharacterTextSplitter):\n",
    "    def __init__(self, pdf: bool = False, **kwargs):\n",
    "        super().__init__(**kwargs)\n",
    "        self.pdf = pdf\n",
    "\n",
    "    def split_text(self, text: str) -> List[str]:\n",
    "        if self.pdf:\n",
    "            text = re.sub(r\"\\n{3,}\", \"\\n\", text)\n",
    "            text = text.replace(\"\\n\\n\", \"\")\n",
    "        sent_sep_pattern = re.compile('([﹒﹔﹖﹗．。！？][\"’”」』]{0,2}|(?=[\"‘“「『]{1,2}|$))')\n",
    "        sent_list = []\n",
    "        for ele in sent_sep_pattern.split(text):\n",
    "            if sent_sep_pattern.match(ele) and sent_list:\n",
    "                sent_list[-1] += ele\n",
    "            elif ele:\n",
    "                sent_list.append(ele)\n",
    "        return sent_list\n",
    "\n",
    "\n",
    "TEXT_SPLITERS = {\n",
    "    \"Character\": CharacterTextSplitter,\n",
    "    \"RecursiveCharacter\": RecursiveCharacterTextSplitter,\n",
    "    \"Markdown\": MarkdownTextSplitter,\n",
    "    \"Chinese\": ChineseTextSplitter,\n",
    "}\n",
    "\n",
    "\n",
    "LOADERS = {\n",
    "    \".csv\": (CSVLoader, {}),\n",
    "    \".doc\": (UnstructuredWordDocumentLoader, {}),\n",
    "    \".docx\": (UnstructuredWordDocumentLoader, {}),\n",
    "    \".enex\": (EverNoteLoader, {}),\n",
    "    \".epub\": (UnstructuredEPubLoader, {}),\n",
    "    \".html\": (UnstructuredHTMLLoader, {}),\n",
    "    \".md\": (UnstructuredMarkdownLoader, {}),\n",
    "    \".odt\": (UnstructuredODTLoader, {}),\n",
    "    \".pdf\": (PyPDFLoader, {}),\n",
    "    \".ppt\": (UnstructuredPowerPointLoader, {}),\n",
    "    \".pptx\": (UnstructuredPowerPointLoader, {}),\n",
    "    \".txt\": (TextLoader, {\"encoding\": \"utf8\"}),\n",
    "}\n",
    "\n",
    "if model_language.value == \"English\":\n",
    "    text_example_path = \"text_example_en.pdf\"\n",
    "else:\n",
    "    text_example_path = \"text_example_cn.pdf\""
   ]
  },
  {
   "attachments": {},
   "cell_type": "markdown",
   "id": "602f8ebd-789c-4eb2-b54d-b23d8f1d8e7b",
   "metadata": {},
   "source": [
    "We can build a RAG pipeline of LangChain through [`create_retrieval_chain`](https://python.langchain.com/docs/modules/chains/), which will help to create a chain to connect RAG components including:\n",
    "\n",
    "- [`Vector stores`](https://python.langchain.com/docs/modules/data_connection/vectorstores/)，\n",
    "- [`Retrievers`](https://python.langchain.com/docs/modules/data_connection/retrievers/)\n",
    "- [`LLM`](https://python.langchain.com/docs/integrations/llms/)\n",
    "- [`Embedding`](https://python.langchain.com/docs/integrations/text_embedding/)\n"
   ]
  },
  {
   "cell_type": "code",
   "execution_count": 26,
   "id": "0908e5e9-4dcb-4fc8-8480-3cf70fd5e934",
   "metadata": {},
   "outputs": [
    {
     "data": {
      "text/plain": [
       "'Vector database is Ready'"
      ]
     },
     "execution_count": 26,
     "metadata": {},
     "output_type": "execute_result"
    }
   ],
   "source": [
    "from langchain.prompts import PromptTemplate\n",
    "from langchain_community.vectorstores import FAISS\n",
    "from langchain.chains.retrieval import create_retrieval_chain\n",
    "from langchain.chains.combine_documents import create_stuff_documents_chain\n",
    "from langchain.docstore.document import Document\n",
    "from langchain.retrievers import ContextualCompressionRetriever\n",
    "from threading import Thread\n",
    "import gradio as gr\n",
    "\n",
    "stop_tokens = llm_model_configuration.get(\"stop_tokens\")\n",
    "rag_prompt_template = llm_model_configuration[\"rag_prompt_template\"]\n",
    "\n",
    "\n",
    "class StopOnTokens(StoppingCriteria):\n",
    "    def __init__(self, token_ids):\n",
    "        self.token_ids = token_ids\n",
    "\n",
    "    def __call__(self, input_ids: torch.LongTensor, scores: torch.FloatTensor, **kwargs) -> bool:\n",
    "        for stop_id in self.token_ids:\n",
    "            if input_ids[0][-1] == stop_id:\n",
    "                return True\n",
    "        return False\n",
    "\n",
    "\n",
    "if stop_tokens is not None:\n",
    "    if isinstance(stop_tokens[0], str):\n",
    "        stop_tokens = llm.pipeline.tokenizer.convert_tokens_to_ids(stop_tokens)\n",
    "\n",
    "    stop_tokens = [StopOnTokens(stop_tokens)]\n",
    "\n",
    "\n",
    "def load_single_document(file_path: str) -> List[Document]:\n",
    "    \"\"\"\n",
    "    helper for loading a single document\n",
    "\n",
    "    Params:\n",
    "      file_path: document path\n",
    "    Returns:\n",
    "      documents loaded\n",
    "\n",
    "    \"\"\"\n",
    "    ext = \".\" + file_path.rsplit(\".\", 1)[-1]\n",
    "    if ext in LOADERS:\n",
    "        loader_class, loader_args = LOADERS[ext]\n",
    "        loader = loader_class(file_path, **loader_args)\n",
    "        return loader.load()\n",
    "\n",
    "    raise ValueError(f\"File does not exist '{ext}'\")\n",
    "\n",
    "\n",
    "def default_partial_text_processor(partial_text: str, new_text: str):\n",
    "    \"\"\"\n",
    "    helper for updating partially generated answer, used by default\n",
    "\n",
    "    Params:\n",
    "      partial_text: text buffer for storing previosly generated text\n",
    "      new_text: text update for the current step\n",
    "    Returns:\n",
    "      updated text string\n",
    "\n",
    "    \"\"\"\n",
    "    partial_text += new_text\n",
    "    return partial_text\n",
    "\n",
    "\n",
    "text_processor = llm_model_configuration.get(\"partial_text_processor\", default_partial_text_processor)\n",
    "\n",
    "\n",
    "def create_vectordb(\n",
    "    docs, spliter_name, chunk_size, chunk_overlap, vector_search_top_k, vector_rerank_top_n, run_rerank, search_method, score_threshold, progress=gr.Progress()\n",
    "):\n",
    "    \"\"\"\n",
    "    Initialize a vector database\n",
    "\n",
    "    Params:\n",
    "      doc: orignal documents provided by user\n",
    "      spliter_name: spliter method\n",
    "      chunk_size:  size of a single sentence chunk\n",
    "      chunk_overlap: overlap size between 2 chunks\n",
    "      vector_search_top_k: Vector search top k\n",
    "      vector_rerank_top_n: Search rerank top n\n",
    "      run_rerank: whether run reranker\n",
    "      search_method: top k search method\n",
    "      score_threshold: score threshold when selecting 'similarity_score_threshold' method\n",
    "\n",
    "    \"\"\"\n",
    "    global db\n",
    "    global retriever\n",
    "    global combine_docs_chain\n",
    "    global rag_chain\n",
    "\n",
    "    if vector_rerank_top_n > vector_search_top_k:\n",
    "        gr.Warning(\"Search top k must >= Rerank top n\")\n",
    "\n",
    "    documents = []\n",
    "    for doc in docs:\n",
    "        if type(doc) is not str:\n",
    "            doc = doc.name\n",
    "        documents.extend(load_single_document(doc))\n",
    "\n",
    "    text_splitter = TEXT_SPLITERS[spliter_name](chunk_size=chunk_size, chunk_overlap=chunk_overlap)\n",
    "\n",
    "    texts = text_splitter.split_documents(documents)\n",
    "    db = FAISS.from_documents(texts, embedding)\n",
    "    if search_method == \"similarity_score_threshold\":\n",
    "        search_kwargs = {\"k\": vector_search_top_k, \"score_threshold\": score_threshold}\n",
    "    else:\n",
    "        search_kwargs = {\"k\": vector_search_top_k}\n",
    "    retriever = db.as_retriever(search_kwargs=search_kwargs, search_type=search_method)\n",
    "    if run_rerank:\n",
    "        reranker.top_n = vector_rerank_top_n\n",
    "        retriever = ContextualCompressionRetriever(base_compressor=reranker, base_retriever=retriever)\n",
    "    prompt = PromptTemplate.from_template(rag_prompt_template)\n",
    "    combine_docs_chain = create_stuff_documents_chain(llm, prompt)\n",
    "\n",
    "    rag_chain = create_retrieval_chain(retriever, combine_docs_chain)\n",
    "\n",
    "    return \"Vector database is Ready\"\n",
    "\n",
    "\n",
    "def update_retriever(vector_search_top_k, vector_rerank_top_n, run_rerank, search_method, score_threshold):\n",
    "    \"\"\"\n",
    "    Update retriever\n",
    "\n",
    "    Params:\n",
    "      vector_search_top_k: Vector search top k\n",
    "      vector_rerank_top_n: Search rerank top n\n",
    "      run_rerank: whether run reranker\n",
    "      search_method: top k search method\n",
    "      score_threshold: score threshold when selecting 'similarity_score_threshold' method\n",
    "\n",
    "    \"\"\"\n",
    "    global db\n",
    "    global retriever\n",
    "    global combine_docs_chain\n",
    "    global rag_chain\n",
    "\n",
    "    if vector_rerank_top_n > vector_search_top_k:\n",
    "        gr.Warning(\"Search top k must >= Rerank top n\")\n",
    "\n",
    "    if search_method == \"similarity_score_threshold\":\n",
    "        search_kwargs = {\"k\": vector_search_top_k, \"score_threshold\": score_threshold}\n",
    "    else:\n",
    "        search_kwargs = {\"k\": vector_search_top_k}\n",
    "    retriever = db.as_retriever(search_kwargs=search_kwargs, search_type=search_method)\n",
    "    if run_rerank:\n",
    "        retriever = ContextualCompressionRetriever(base_compressor=reranker, base_retriever=retriever)\n",
    "        reranker.top_n = vector_rerank_top_n\n",
    "    rag_chain = create_retrieval_chain(retriever, combine_docs_chain)\n",
    "\n",
    "    return \"Vector database is Ready\"\n",
    "\n",
    "\n",
    "def bot(history, temperature, top_p, top_k, repetition_penalty, hide_full_prompt, do_rag):\n",
    "    \"\"\"\n",
    "    callback function for running chatbot on submit button click\n",
    "\n",
    "    Params:\n",
    "      history: conversation history\n",
    "      temperature:  parameter for control the level of creativity in AI-generated text.\n",
    "                    By adjusting the `temperature`, you can influence the AI model's probability distribution, making the text more focused or diverse.\n",
    "      top_p: parameter for control the range of tokens considered by the AI model based on their cumulative probability.\n",
    "      top_k: parameter for control the range of tokens considered by the AI model based on their cumulative probability, selecting number of tokens with highest probability.\n",
    "      repetition_penalty: parameter for penalizing tokens based on how frequently they occur in the text.\n",
    "      hide_full_prompt: whether to show searching results in promopt.\n",
    "      do_rag: whether do RAG when generating texts.\n",
    "\n",
    "    \"\"\"\n",
    "    streamer = TextIteratorStreamer(\n",
    "        llm.pipeline.tokenizer,\n",
    "        timeout=3600.0,\n",
    "        skip_prompt=hide_full_prompt,\n",
    "        skip_special_tokens=True,\n",
    "    )\n",
    "    pipeline_kwargs = dict(\n",
    "        max_new_tokens=512,\n",
    "        temperature=temperature,\n",
    "        do_sample=temperature > 0.0,\n",
    "        top_p=top_p,\n",
    "        top_k=top_k,\n",
    "        repetition_penalty=repetition_penalty,\n",
    "        streamer=streamer,\n",
    "    )\n",
    "    if stop_tokens is not None:\n",
    "        pipeline_kwargs[\"stopping_criteria\"] = StoppingCriteriaList(stop_tokens)\n",
    "\n",
    "    llm.pipeline_kwargs = pipeline_kwargs\n",
    "    if do_rag:\n",
    "        t1 = Thread(target=rag_chain.invoke, args=({\"input\": history[-1][0]},))\n",
    "    else:\n",
    "        input_text = rag_prompt_template.format(input=history[-1][0], context=\"\")\n",
    "        t1 = Thread(target=llm.invoke, args=(input_text,))\n",
    "    t1.start()\n",
    "\n",
    "    # Initialize an empty string to store the generated text\n",
    "    partial_text = \"\"\n",
    "    for new_text in streamer:\n",
    "        partial_text = text_processor(partial_text, new_text)\n",
    "        history[-1][1] = partial_text\n",
    "        yield history\n",
    "\n",
    "\n",
    "def request_cancel():\n",
    "    llm.pipeline.model.request.cancel()\n",
    "\n",
    "\n",
    "# initialize the vector store with example document\n",
    "create_vectordb(\n",
    "    [text_example_path],\n",
    "    \"RecursiveCharacter\",\n",
    "    chunk_size=400,\n",
    "    chunk_overlap=50,\n",
    "    vector_search_top_k=10,\n",
    "    vector_rerank_top_n=2,\n",
    "    run_rerank=False,\n",
    "    search_method=\"similarity_score_threshold\",\n",
    "    score_threshold=0.5,\n",
    ")"
   ]
  },
  {
   "attachments": {},
   "cell_type": "markdown",
   "id": "71d53bbe-79fd-45ed-ae0a-a76601d2939b",
   "metadata": {},
   "source": [
    "Next we can create a Gradio UI and run demo."
   ]
  },
  {
   "cell_type": "code",
   "execution_count": 27,
   "id": "8412ca3e-20ee-4929-b1d8-c211201d1cbe",
   "metadata": {},
   "outputs": [
    {
     "name": "stderr",
     "output_type": "stream",
     "text": [
      "C:\\Python310\\lib\\site-packages\\gradio\\components\\chatbot.py:223: UserWarning: You have not specified a value for the `type` parameter. Defaulting to the 'tuples' format for chatbot messages, but this is deprecated and will be removed in a future version of Gradio. Please set type='messages' instead, which uses openai-style 'role' and 'content' keys.\n",
      "  warnings.warn(\n"
     ]
    },
    {
     "name": "stdout",
     "output_type": "stream",
     "text": [
      "* Running on local URL:  http://127.0.0.1:7860\n",
      "\n",
      "To create a public link, set `share=True` in `launch()`.\n"
     ]
    },
    {
     "data": {
      "text/html": [
       "<div><iframe src=\"http://127.0.0.1:7860/\" width=\"100%\" height=\"500\" allow=\"autoplay; camera; microphone; clipboard-read; clipboard-write;\" frameborder=\"0\" allowfullscreen></iframe></div>"
      ],
      "text/plain": [
       "<IPython.core.display.HTML object>"
      ]
     },
     "metadata": {},
     "output_type": "display_data"
    },
    {
     "name": "stderr",
     "output_type": "stream",
     "text": [
      "Traceback (most recent call last):\n",
      "  File \"C:\\Python310\\lib\\site-packages\\gradio\\routes.py\", line 989, in predict\n",
      "    output = await route_utils.call_process_api(\n",
      "  File \"C:\\Python310\\lib\\site-packages\\gradio\\route_utils.py\", line 323, in call_process_api\n",
      "    output = await app.get_blocks().process_api(\n",
      "  File \"C:\\Python310\\lib\\site-packages\\gradio\\blocks.py\", line 2018, in process_api\n",
      "    result = await self.call_function(\n",
      "  File \"C:\\Python310\\lib\\site-packages\\gradio\\blocks.py\", line 1567, in call_function\n",
      "    prediction = await anyio.to_thread.run_sync(  # type: ignore\n",
      "  File \"C:\\Python310\\lib\\site-packages\\anyio\\to_thread.py\", line 56, in run_sync\n",
      "    return await get_async_backend().run_sync_in_worker_thread(\n",
      "  File \"C:\\Python310\\lib\\site-packages\\anyio\\_backends\\_asyncio.py\", line 2441, in run_sync_in_worker_thread\n",
      "    return await future\n",
      "  File \"C:\\Python310\\lib\\site-packages\\anyio\\_backends\\_asyncio.py\", line 943, in run\n",
      "    result = context.run(func, *args)\n",
      "  File \"C:\\Python310\\lib\\site-packages\\gradio\\utils.py\", line 846, in wrapper\n",
      "    response = f(*args, **kwargs)\n",
      "  File \"C:\\Users\\devcloud\\AppData\\Local\\Temp\\ipykernel_17776\\3005838892.py\", line 111, in create_vectordb\n",
      "    reranker.top_n = vector_rerank_top_n\n",
      "NameError: name 'reranker' is not defined\n",
      "Traceback (most recent call last):\n",
      "  File \"C:\\Python310\\lib\\site-packages\\gradio\\routes.py\", line 989, in predict\n",
      "    output = await route_utils.call_process_api(\n",
      "  File \"C:\\Python310\\lib\\site-packages\\gradio\\route_utils.py\", line 323, in call_process_api\n",
      "    output = await app.get_blocks().process_api(\n",
      "  File \"C:\\Python310\\lib\\site-packages\\gradio\\blocks.py\", line 2018, in process_api\n",
      "    result = await self.call_function(\n",
      "  File \"C:\\Python310\\lib\\site-packages\\gradio\\blocks.py\", line 1567, in call_function\n",
      "    prediction = await anyio.to_thread.run_sync(  # type: ignore\n",
      "  File \"C:\\Python310\\lib\\site-packages\\anyio\\to_thread.py\", line 56, in run_sync\n",
      "    return await get_async_backend().run_sync_in_worker_thread(\n",
      "  File \"C:\\Python310\\lib\\site-packages\\anyio\\_backends\\_asyncio.py\", line 2441, in run_sync_in_worker_thread\n",
      "    return await future\n",
      "  File \"C:\\Python310\\lib\\site-packages\\anyio\\_backends\\_asyncio.py\", line 943, in run\n",
      "    result = context.run(func, *args)\n",
      "  File \"C:\\Python310\\lib\\site-packages\\gradio\\utils.py\", line 846, in wrapper\n",
      "    response = f(*args, **kwargs)\n",
      "  File \"C:\\Users\\devcloud\\AppData\\Local\\Temp\\ipykernel_17776\\3005838892.py\", line 111, in create_vectordb\n",
      "    reranker.top_n = vector_rerank_top_n\n",
      "NameError: name 'reranker' is not defined\n"
     ]
    }
   ],
   "source": [
    "if not Path(\"gradio_helper.py\").exists():\n",
    "    r = requests.get(url=\"https://raw.githubusercontent.com/openvinotoolkit/openvino_notebooks/latest/notebooks/llm-rag-langchain/gradio_helper.py\")\n",
    "    open(\"gradio_helper.py\", \"w\").write(r.text)\n",
    "\n",
    "from gradio_helper import make_demo\n",
    "\n",
    "demo = make_demo(\n",
    "    load_doc_fn=create_vectordb,\n",
    "    run_fn=bot,\n",
    "    stop_fn=request_cancel,\n",
    "    update_retriever_fn=update_retriever,\n",
    "    model_name=llm_model_id.value,\n",
    "    language=model_language.value,\n",
    ")\n",
    "\n",
    "try:\n",
    "    demo.queue().launch()\n",
    "except Exception:\n",
    "    demo.queue().launch(share=True)\n",
    "# If you are launching remotely, specify server_name and server_port\n",
    "# EXAMPLE: `demo.launch(server_name='your server name', server_port='server port in int')`\n",
    "# To learn more please refer to the Gradio docs: https://gradio.app/docs/"
   ]
  },
  {
   "cell_type": "code",
   "execution_count": 28,
   "id": "6f4b5a84-bebf-49b9-b2fa-5e788ed2cbac",
   "metadata": {},
   "outputs": [
    {
     "name": "stdout",
     "output_type": "stream",
     "text": [
      "Closing server running on port: 7860\n"
     ]
    }
   ],
   "source": [
    "# please uncomment and run this cell for stopping gradio interface\n",
    "demo.close()"
   ]
  },
  {
   "cell_type": "code",
   "execution_count": null,
   "id": "2e99e772-bcc9-4030-976e-9e85466e04fa",
   "metadata": {},
   "outputs": [],
   "source": []
  }
 ],
 "metadata": {
  "kernelspec": {
   "display_name": "Python 3 (ipykernel)",
   "language": "python",
   "name": "python3"
  },
  "language_info": {
   "codemirror_mode": {
    "name": "ipython",
    "version": 3
   },
   "file_extension": ".py",
   "mimetype": "text/x-python",
   "name": "python",
   "nbconvert_exporter": "python",
   "pygments_lexer": "ipython3",
   "version": "3.8.10"
  },
  "openvino_notebooks": {
   "imageUrl": "https://github.com/openvinotoolkit/openvino_notebooks/assets/29454499/304aa048-f10c-41c6-bb31-6d2bfdf49cf5",
   "tags": {
    "categories": [
     "Model Demos",
     "AI Trends"
    ],
    "libraries": [],
    "other": [
     "LLM"
    ],
    "tasks": [
     "Text Generation"
    ]
   }
  },
  "widgets": {
   "application/vnd.jupyter.widget-state+json": {
    "state": {},
    "version_major": 2,
    "version_minor": 0
   }
  }
 },
 "nbformat": 4,
 "nbformat_minor": 5
}
